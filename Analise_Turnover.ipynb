{
 "cells": [
  {
   "cell_type": "code",
   "execution_count": 1,
   "metadata": {
    "id": "NNj8Z0pcennk"
   },
   "outputs": [],
   "source": [
    "# Importando as Bibliotecas. \n",
    "import pandas as pd\n",
    "import matplotlib.pyplot as plt\n",
    "import seaborn as sns\n",
    "import numpy as np\n",
    "from datetime import date, datetime\n",
    "from dateutil.relativedelta import relativedelta"
   ]
  },
  {
   "cell_type": "code",
   "execution_count": 2,
   "metadata": {
    "id": "pLPrthVc0lAq"
   },
   "outputs": [],
   "source": [
    "# Lendo o arquivo csv extraído.\n",
    "df = pd.read_csv('funcionarios_unique2.csv', encoding='latin-1')"
   ]
  },
  {
   "cell_type": "code",
   "execution_count": 3,
   "metadata": {
    "colab": {
     "base_uri": "https://localhost:8080/",
     "height": 521
    },
    "id": "ET7ufbe0wdbv",
    "outputId": "2eca9795-f347-447a-9b0a-788c7c857cd4"
   },
   "outputs": [],
   "source": [
    "# Renomeando a coluna 'Max(CodigoDependente)' para 'qtdDependentes'\n",
    "df.rename(columns={'Max(CodigoDependente)':'qtdDependentes'},inplace=True)"
   ]
  },
  {
   "cell_type": "code",
   "execution_count": 4,
   "metadata": {
    "id": "AQsU58JdPe3j"
   },
   "outputs": [],
   "source": [
    "# Retirando dados inconsistentes, que não contém a Data de Admissão.\n",
    "df = df.loc[df.DataAdmissao != '-']"
   ]
  },
  {
   "cell_type": "code",
   "execution_count": 5,
   "metadata": {
    "id": "ZeAIqUWZPWnR"
   },
   "outputs": [],
   "source": [
    "# Retirando a coluna FaixaTempoEmpresa, pois ela está com problemas está contando até o dia atual.\n",
    "df.drop('FaixaTempoEmpresa',axis=1,inplace=True)"
   ]
  },
  {
   "cell_type": "code",
   "execution_count": 6,
   "metadata": {
    "id": "NwgM3nmIJQTq"
   },
   "outputs": [],
   "source": [
    "# Separando a Coluna 'ChaveLink' que contém as movimentações dos funcionários\n",
    "df[['Empresa','ID_Funcionario']] = df.ChaveFuncionario.str.split('|',expand=True)\n",
    "# Deletando a Coluna Chave Funcionário pois a mesma já foi separada junto com a coluna 'ChaveLink\n",
    "del df['ChaveFuncionario']"
   ]
  },
  {
   "cell_type": "code",
   "execution_count": 7,
   "metadata": {
    "id": "oosT7yqAqh7q"
   },
   "outputs": [],
   "source": [
    "# Adicionando a Coluna Situação para cada funcionário\n",
    "df['Situacao'] = 'NaN'"
   ]
  },
  {
   "cell_type": "code",
   "execution_count": 8,
   "metadata": {
    "id": "twPjFIgRnAxz"
   },
   "outputs": [],
   "source": [
    "# Colocando a situação dos funcionários no DataSet.\n",
    "df.loc[(df.DataDesligamento == '-'), 'Situacao'] = 'Ativo'\n",
    "df.loc[(df.DataDesligamento != '-'), 'Situacao'] = 'Desligado'"
   ]
  },
  {
   "cell_type": "code",
   "execution_count": 9,
   "metadata": {
    "id": "utHMbSIkup34"
   },
   "outputs": [],
   "source": [
    "# Transformando as colunas para os formatos corretos.\n",
    "df.DataAdmissao = pd.to_datetime(df.DataAdmissao, format='%Y-%m-%d')\n",
    "df.DataNascimentoFuncionario = pd.to_datetime(df.DataNascimentoFuncionario, format='%Y-%m-%d')\n",
    "df.DataDesligamento = pd.to_datetime(df.DataDesligamento, errors='coerce',format='%Y-%m-%d')\n",
    "df.SalarioAtual = df.SalarioAtual.astype('float64')"
   ]
  },
  {
   "cell_type": "code",
   "execution_count": 10,
   "metadata": {
    "id": "gXQEqq3fUrob"
   },
   "outputs": [],
   "source": [
    "# Adicionando coluna de tempo de empresa para cada funcionário.\n",
    "df['TempoEmpresa'] = 'NaN'"
   ]
  },
  {
   "cell_type": "code",
   "execution_count": 11,
   "metadata": {
    "id": "SRTqIR6fQLyo"
   },
   "outputs": [],
   "source": [
    "# Adicionando coluna de tempo com a data de hoje para cada funcionário.\n",
    "df['diaHoje'] = hoje = date.today()\n",
    "df.diaHoje = pd.to_datetime(df.diaHoje,format='%Y-%m-%d')"
   ]
  },
  {
   "cell_type": "code",
   "execution_count": 12,
   "metadata": {
    "id": "MO78SP5iS3k3"
   },
   "outputs": [],
   "source": [
    "# Adicionando o tempo de empresa real de cada funcionário, através da subtração do dia de hoje pela data de admissão em caso de funcionário 'Ativo'\n",
    "df.loc[(df.Situacao == 'Ativo'), 'TempoEmpresa'] = df.diaHoje.subtract(df.DataAdmissao)\n",
    "# Adicionando o tempo de empresa real de cada funcionário, através da subtração da data de desligamento pela data de admissão, quando funcionário foi\n",
    "# desligado.\n",
    "df.loc[(df.Situacao == 'Desligado'), 'TempoEmpresa'] = df.DataDesligamento.subtract(df.DataAdmissao)"
   ]
  },
  {
   "cell_type": "code",
   "execution_count": 13,
   "metadata": {
    "id": "ZsmAnA1ec3_F"
   },
   "outputs": [],
   "source": [
    "# Transformando em 'timedelta' em dias, para posteriormente converter em anos . \n",
    "df.TempoEmpresa = pd.to_timedelta(df.TempoEmpresa,'D')"
   ]
  },
  {
   "cell_type": "code",
   "execution_count": 14,
   "metadata": {
    "id": "WL16u3-EskGd"
   },
   "outputs": [],
   "source": [
    "# Reclassificando a situação dos colaboradores, como funcionários com data de desligamento superior a 1 ano são considerados\n",
    "# 'Desligado_SemTurnover' e funcionários com desligamento abaixo disso 'Desligado_ComTurnover'.\n",
    "df.loc[(df.DataDesligamento-df.DataAdmissao)>= pd.Timedelta(366,'d'), 'Situacao'] = 'Desligado_SemTurnover'\n",
    "df.loc[(df.DataDesligamento-df.DataAdmissao)<= pd.Timedelta(365,'d'), 'Situacao'] = 'Desligado_ComTurnover'"
   ]
  },
  {
   "cell_type": "code",
   "execution_count": 15,
   "metadata": {
    "id": "YHCGt6jopT1E"
   },
   "outputs": [],
   "source": [
    "# Retirando dados de funcionários desligados sem turnover, pois não são relevantes para esse caso.\n",
    "tirar = (df.loc[df.Situacao == 'Desligado_SemTurnover'])\n",
    "df.drop(tirar.index,inplace=True)"
   ]
  },
  {
   "cell_type": "code",
   "execution_count": 16,
   "metadata": {
    "colab": {
     "base_uri": "https://localhost:8080/",
     "height": 638
    },
    "id": "bH-tnXW9B8e1",
    "outputId": "ec32dd59-38ef-40cc-e257-dc82b786b2f1"
   },
   "outputs": [
    {
     "data": {
      "text/plain": [
       "(Index(['DataAdmissao', 'DataDesligamento', 'SalarioAtual', 'SexoFuncionario',\n",
       "        'DataNascimentoFuncionario', 'EstadoCivilFuncionario', 'GrauInstrucao',\n",
       "        'CidadeFuncionario', 'BairroFuncionario', 'FuncionarioSindicalizado',\n",
       "        'RecebeInsalubridade', 'RecebePericulosidade',\n",
       "        'CargaHorariaFuncionario', 'FaixaSalarial', 'qtdDependentes', 'Empresa',\n",
       "        'ID_Funcionario', 'Situacao', 'TempoEmpresa', 'diaHoje'],\n",
       "       dtype='object'),\n",
       " [array(['101', '103', '201', '701', '702', '703'], dtype=object),\n",
       "  array(['De  03 Até 04 Salário Mínimo', 'De  01 Até 02 Salário Mínimo',\n",
       "         'De  05 Até 06 Salário Mínimo', 'De  02 Até 03 Salário Mínimo',\n",
       "         'De  15 Até 20 Salário Mínimo', 'De  08 Até 09 Salário Mínimo',\n",
       "         'De  04 Até 05 Salário Mínimo', 'De  07 Até 08 Salário Mínimo',\n",
       "         'De  10 Até 11 Salário Mínimo', 'Acima  20 Salário Mínimo',\n",
       "         'De  09 Até 10 Salário Mínimo', 'De  14 Até 15 Salário Mínimo',\n",
       "         'De  06 Até 07 Salário Mínimo', 'Até 01 Salário Mínimo',\n",
       "         'De  11 Até 12 Salário Mínimo', 'De  12 Até 13 Salário Mínimo',\n",
       "         'De  13 Até 14 Salário Mínimo'], dtype=object),\n",
       "  array(['Casado', 'Solteiro', 'Divorciado', 'União Estável', 'Viúvo',\n",
       "         'Separado Judicialmente', 'Desquitado', 'Outros'], dtype=object),\n",
       "  array(['Ensino Medio Completo', '5ª/8ª Ensino Fundamental',\n",
       "         '4ª completa Ensino Fundamental', 'Superior Completo - Pós Gradua',\n",
       "         'Ensino Medio Incompleto', '4ª serie incompleta Ensino Fun',\n",
       "         'Ensino Fundamental Completo', 'Técnico', 'Superior Incompleto',\n",
       "         'Analfabeto', 'Superior Completo'], dtype=object),\n",
       "  array(['Não Sindicalizado', 'Sindicalizado'], dtype=object),\n",
       "  array(['Não Recebe', 'Recebe'], dtype=object),\n",
       "  array(['Não Recebe', 'Recebe'], dtype=object),\n",
       "  array(['3', '2', '-', '7', '1', '4', '5', '6', '9', '8'], dtype=object),\n",
       "  array(['Ativo', 'Desligado_ComTurnover'], dtype=object),\n",
       "  array(['220', '180', '200', '100', '60', '30'], dtype=object)])"
      ]
     },
     "execution_count": 16,
     "metadata": {},
     "output_type": "execute_result"
    }
   ],
   "source": [
    "# Verificando as colunas e os valores das mesmas para criar um dicionário de dados.\n",
    "df.columns,[df.Empresa.unique(),df.FaixaSalarial.unique(),df.EstadoCivilFuncionario.unique(),df.GrauInstrucao.unique(),\n",
    "df.FuncionarioSindicalizado.unique(),df.RecebeInsalubridade.unique(),df.RecebePericulosidade.unique(),df.qtdDependentes.unique(),\n",
    "df.Situacao.unique(),df.CargaHorariaFuncionario.unique()]"
   ]
  },
  {
   "cell_type": "code",
   "execution_count": 17,
   "metadata": {
    "id": "q8_nxkFh7mgy"
   },
   "outputs": [],
   "source": [
    "# Transformando os dados categóricos em númericos para a análise (manualmente).\n",
    "cargaHoraria = {'220':0,'200':1,'180':2,'100':3,'60':4,'30':5}\n",
    "df.CargaHorariaFuncionario = df.CargaHorariaFuncionario.replace(cargaHoraria)\n",
    "situacao = {'Ativo':0,'Desligado_ComTurnover':1,'Desligado_SemTurnover':2}\n",
    "df.Situacao = df.Situacao.replace(situacao)\n",
    "sexoFuncionario = {'Masculino':0,'Feminino':1}\n",
    "df.SexoFuncionario = df.SexoFuncionario.replace(sexoFuncionario)\n",
    "estadoCivilFuncionario = {'Casado':0, 'Solteiro':1, 'Viúvo':2, 'Divorciado':3,\n",
    "        'Separado Judicialmente':4, 'União Estável':5, 'Desquitado':6, 'Outros':7}\n",
    "df.EstadoCivilFuncionario = df.EstadoCivilFuncionario.map(estadoCivilFuncionario)\n",
    "grauInstrucaoFuncionario = {'Ensino Medio Completo':6, '5ª/8ª Ensino Fundamental':3,\n",
    "        '4ª completa Ensino Fundamental':2, 'Superior Completo - Pós Gradua':10,\n",
    "        '4ª serie incompleta Ensino Fun':1, 'Ensino Medio Incompleto':5,\n",
    "        'Ensino Fundamental Completo':4, 'Técnico':7, 'Superior Incompleto':8,\n",
    "        'Analfabeto':0, 'Superior Completo':9}\n",
    "df.GrauInstrucao = df.GrauInstrucao.replace(grauInstrucaoFuncionario)\n",
    "funcionarioSindicalizado = {'Não Sindicalizado':0, 'Sindicalizado':1}\n",
    "df.FuncionarioSindicalizado = df.FuncionarioSindicalizado.replace(funcionarioSindicalizado)\n",
    "insalubre = {'Não Recebe':0, 'Recebe':1}\n",
    "df.RecebeInsalubridade = df.RecebeInsalubridade.replace(insalubre)\n",
    "periculosidade = {'Não Recebe':0, 'Recebe':1}\n",
    "df.RecebePericulosidade = df.RecebePericulosidade.replace(periculosidade)\n",
    "cargaHoraria = {'220':0, '180':2, '125':3, '200':1, '100':4, '60':5, '30':6}\n",
    "df.CargaHorariaFuncionario = df.CargaHorariaFuncionario.replace(cargaHoraria)\n",
    "empresaFuncionario = {'101':0, '103':1, '201':2, '701':3, '702':4, '703':5}\n",
    "df.Empresa = df.Empresa.replace(empresaFuncionario)\n",
    "dependentesFuncionario = {'-':0}\n",
    "df.qtdDependentes = df.qtdDependentes.replace(dependentesFuncionario)\n",
    "faixaSalarialFuncionario = {'Até 01 Salário Mínimo':0,'De  01 Até 02 Salário Mínimo':1,'De  02 Até 03 Salário Mínimo':2,\n",
    " 'De  03 Até 04 Salário Mínimo':3,'De  04 Até 05 Salário Mínimo':4,'De  05 Até 06 Salário Mínimo':5,\n",
    " 'De  06 Até 07 Salário Mínimo':6,'De  07 Até 08 Salário Mínimo':7,'De  08 Até 09 Salário Mínimo':8,\n",
    " 'De  09 Até 10 Salário Mínimo':9,'De  10 Até 11 Salário Mínimo':10, 'De  11 Até 12 Salário Mínimo':11,\n",
    " 'De  12 Até 13 Salário Mínimo':12, 'De  13 Até 14 Salário Mínimo':13,'De  14 Até 15 Salário Mínimo':14,\n",
    " 'De  15 Até 20 Salário Mínimo':15,  'Acima  20 Salário Mínimo':16}\n",
    "df.FaixaSalarial = df.FaixaSalarial.replace(faixaSalarialFuncionario)"
   ]
  },
  {
   "cell_type": "code",
   "execution_count": 18,
   "metadata": {
    "id": "gYkXkVFbtj7R"
   },
   "outputs": [],
   "source": [
    "# Incluindo a cidade da empresa.\n",
    "df['Cidade_Empresa'] = 'NaN'\n",
    "df.loc[(df.Empresa == 0), 'Cidade_Empresa'] = 'Palmas-PR'\n",
    "df.loc[(df.Empresa == 3), 'Cidade_Empresa'] = 'Cacador-SC'\n",
    "df.loc[(df.Empresa == 1), 'Cidade_Empresa'] = 'Santa_Cecilia-SC'\n",
    "df.loc[(df.Empresa == 5), 'Cidade_Empresa'] = 'CD Pernambuco-PE'\n",
    "df.loc[(df.Empresa == 2), 'Cidade_Empresa'] = 'Palmas-PR'\n",
    "df.loc[(df.Empresa == 4), 'Cidade_Empresa'] = 'Curitiba-PR'"
   ]
  },
  {
   "cell_type": "code",
   "execution_count": 19,
   "metadata": {
    "id": "GZsCqRzjkSUp"
   },
   "outputs": [],
   "source": [
    "# Transformando os dados das cidades em códigos categóricos.\n",
    "cidadesEmpresa = {'Palmas-PR':0, 'Santa_Cecilia-SC':1, 'Cacador-SC':2, 'Curitiba-PR':3,\n",
    "       'CD Pernambuco-PE':4}\n",
    "df.Cidade_Empresa = df.Cidade_Empresa.replace(cidadesEmpresa)"
   ]
  },
  {
   "cell_type": "code",
   "execution_count": 20,
   "metadata": {
    "colab": {
     "base_uri": "https://localhost:8080/"
    },
    "id": "XT7wEiqscep8",
    "outputId": "23b2a410-ae1c-49be-8f58-182dcf95bd68"
   },
   "outputs": [
    {
     "data": {
      "text/plain": [
       "array(['ABELARDO LUZ', 'AGUA DOCE', 'AGUDOS', 'ARAPOTI', 'BAURU',\n",
       "       'BITURUNA', 'CACADOR', 'CALMON', 'CAMPINAS', 'CAMPO BELO DO SUL',\n",
       "       'CAMPO DO TENENTE', 'CAMPO ERE', 'CAMPOS NOVOS', 'CANTAGALO',\n",
       "       'CASCAVEL', 'CASTRO', 'CATANDUVAS', 'CAÇADOR',\n",
       "       'CEL DOMINGOS SOARES', 'CERRO AZUL', 'CLEVELANDIA',\n",
       "       'CORONEL DOMINGO SOARES', 'CORONEL DOMINGOS SOARES',\n",
       "       'CORREIA PINTO', 'CRUZ MACHADO', 'CURITIBA', 'CURITIBANOS',\n",
       "       'Cacador', 'Caçador', 'Coronel Domingos Soares', 'FAXINAL DO CEU',\n",
       "       'FAZENDA RIO GRANDE', 'FRAIBURGO', 'GEERAL CARNEIRO',\n",
       "       'GENERAL CARNEIRO', 'GLORINHA', 'GRAVATAI', 'GUARAPUAVA',\n",
       "       'GUARATUBA', 'IMBAU', 'IMBITUVA', 'INACIO MARTINS', 'IPABA',\n",
       "       'IPATINGA', 'IPERO', 'IPIRANGA', 'IPOJUCA', 'IRANI',\n",
       "       'IRIONOPOLIES', 'ITAPERUCU', 'ITAPETININGA', 'ITAPEVA', 'ITARARE',\n",
       "       'JABOATAO DOS GUARARAPES', 'LAGES', 'LAPA', 'LARANJEIRAS DO SUL',\n",
       "       'LEBOM REGIS', 'LEBON REGIS', 'LENCOIS PAULISTA', 'LONDRINA',\n",
       "       'LUZERNA', 'MALLET', 'MANGUEIRINHA', 'MARACAS',\n",
       "       'MARCILIANO FERNANDES', 'MARIOPOLIS', 'MARQUINHO', 'MATOS COSTA',\n",
       "       'MONTE  CASTELO', 'MONTE CARLO', 'MONTE CASTELO', 'MUCURI',\n",
       "       'Mirassol', 'NOVA LARANJEIRA', 'NOVA LARANJEIRAS',\n",
       "       'NOVAS LARANJEIRAS', 'OTACILIO COSTA', 'PALMAS', 'PALMEIRINHA',\n",
       "       'PALMITAL', 'PASSOS MAIA', 'PIEN', 'PINHA', 'PINHAIS', 'PINHAO',\n",
       "       'PINHÃO', 'PIRAI DO SUL', 'PIRAIBA DO SUL', 'PONTA GROSSA',\n",
       "       'PONTE ALTA', 'PONTE ALTA DO NORTE', 'PORTO UNIAO',\n",
       "       'PRESIDENTE PRUDENTE', 'RIALMA', 'RIO BRANCO DO SUL',\n",
       "       'RIO DAS ANTAS', 'RIO DE JANEIRO', 'RIO DO CAMPO', 'RIO DO SUL',\n",
       "       'RIO NEGRINHO', 'RIO NEGRO', 'Rio Bonito do Iguaçu', 'SALVADOR',\n",
       "       'SANTA  CECILIA', 'SANTA CECIILIA', 'SANTA CECILI',\n",
       "       'SANTA CECILIA', 'SANTA CECILIA SC', 'SANTA CECIlia',\n",
       "       'SANTA CECLIA', 'SANTA CECÍLIA', 'SANTA CEILIA',\n",
       "       'SAO BENTO DO SUL', 'SAO CRISTOVAO', 'SAO CRISTOVAO DO SUIL',\n",
       "       'SAO CRISTOVAO DO SUL', 'SAO JOSE DO CERRITO',\n",
       "       'SAO JOSE DOS PINHAIS', 'SAO LEOPOLDO', 'SAO PAULO',\n",
       "       'São Cristovão do Sul', 'TELEMACO BORBA', 'TIMBO GRANDE',\n",
       "       'TRES BARRAS', 'TURVO', 'UNIAO DA VITORIA', 'UNIAO DA VITÓRIA',\n",
       "       'VENTANIA', 'VIDEIRA', 'Videira'], dtype=object)"
      ]
     },
     "execution_count": 20,
     "metadata": {},
     "output_type": "execute_result"
    }
   ],
   "source": [
    "# Verificando o nome das cidades dos funcionários para validar se serão usadas.\n",
    "listaCidades = df.CidadeFuncionario.unique()\n",
    "listaCidades.sort()\n",
    "listaCidades"
   ]
  },
  {
   "cell_type": "code",
   "execution_count": 21,
   "metadata": {
    "id": "nX1Xm2RQd5U3"
   },
   "outputs": [],
   "source": [
    "# Criando um dicionário para padronizar os nomes das cidades.\n",
    "mapeamento = {'ABELARDO LUZ':'ABELARDO_LUZ', 'AGUA DOCE':'AGUA_DOCE', 'AGUDOS':'AGUDOS', 'ARAPOTI':'ARAPOTI', 'BAURU':'BAURU',\n",
    "       'BITURUNA':'BITURUNA', 'CACADOR':'CACADOR', 'CACADOTR':'CACADOR', 'CALMON':'CALMON', 'CAMPINAS':'CAMPINAS',\n",
    "       'CAMPO BELO DO SUL':'CAMPO_BELO_DO_SUL', 'CAMPO DO TENENTE':'CAMPO_DO_TENENTE', 'CAMPO ERE':'CAMPO_ERE',\n",
    "       'CAMPOS NOVOS':'CAMPOS_NOVOS', 'CANTAGALO':'CANTAGALO', 'CASCAVEL':'CASCAVEL', 'CASTRO':'CASTRO', 'CATANDUVAS':'CATANDUVAS',\n",
    "       'CAÇADOR':'CACADOR', 'CEL DOMINGOS SOARES':'CEL_DOMINGOS_SOARES', 'CERRO AZUL':'CERRO_AZUL', 'CLEVELANDIA':'CLEVELANDIA',\n",
    "       'COLOMBO':'COLOMBO', 'CORONEL DOMINGO SOARES':'CEL_DOMINGOS_SOARES', 'CORONEL DOMINGOS SOARES':'CEL_DOMINGOS_SOARES',\n",
    "       'CORREIA PINTO':'CORREIA_PINTO', 'CRUZ MACHADO':'CRUZ_MACHADO', 'CURITIBA':'CURITIBA', 'CURITIBANOS':'CURITIBANOS',\n",
    "       'Cacador':'CACADOR', 'Caçador':'CACADOR', 'Coronel Domingos Soares':'CEL_DOMINGOS_SOARES', 'DR ULYSSES':'DOUTOR_ULYSSES',\n",
    "       'FAXINAL DO CEU':'FAXINAL_DO_CEU', 'FAZENDA RIO GRANDE':'FAZENDA_RIO_GRANDE', 'FRAIBURGO':'FRAIBURGO',\n",
    "       'GEERAL CARNEIRO':'GEN_CARNEIRO', 'GENERAL CARNEIRO':'GEN_CARNEIRO', 'GLORINHA':'GLORINHA', 'GRAVATAI':'GRAVATAI',\n",
    "       'GUAIBA':'GUAIBA', 'GUARAPUAVA':'GUARAPUAVA', 'GUARATUBA':'GUARATUBA', 'IMBAU':'IMBAU', 'IMBITUVA':'IMBITUVA',\n",
    "       'INACIO MARTINS':'INACIO_MARTINS', 'IPABA':'IPABA', 'IPATINGA':'IPATINGA', 'IPERO':'IPERO', 'IPIRANGA':'IPIRANGA',\n",
    "       'IPOJUCA':'IPOJUCA', 'IRANI':'IRANI', 'IRATI':'IRATI', 'IRIONOPOLIES':'IRENEOPOLIS', 'ITAPERUCU':'ITAPERUCU',\n",
    "       'ITAPETININGA':'ITAPETININGA', 'ITAPEVA':'ITAPEVA', 'ITARARE':'ITARARE', 'JABOATAO DOS GUARARAPES':'JABOATAO_DOS_GUARARAPES',\n",
    "       'JOINVILLE':'JOINVILLE', 'JUIZ DE FORA':'JUIZ_DE_FORA', 'JUQUITIBA':'JUQUITIBA', 'LAGES':'LAGES', 'LAPA':'LAPA',\n",
    "       'LARANJEIRAS DO SUL':'LARANJEIRAS_DO_SUL', 'LEBOM REGIS':'LEBON_REGIS', 'LEBON REGIS':'LEBON_REGIS', 'LEBON REGS':'LEBON_REGIS',\n",
    "       'LENCOIS PAULISTA':'LENCOIS_PAULISTA', 'LONDRINA':'LONDRINA', 'LUZERNA':'LUZERNA', 'MALLEI':'MALLET', 'MALLET':'MALLET',\n",
    "       'MANGUEIRINHA':'MANGUEIRINHA', 'MARACAS':'MARACAS', 'MARCILIANO FERNANDES':'MARCILIANO_FERNANDES', 'MARIOPOLIS':'MARIOPOLIS',\n",
    "       'MARQUINHO':'MARQUINHO', 'MATOS COSTA':'MATOS_COSTA', 'MONTE  CASTELO':'MONTE_CASTELO', 'MONTE CARLO':'MONTE_CARLO',\n",
    "       'MONTE CASTELO':'MONTE_CASTELO', 'MUCURI':'MUCURI', 'Mirassol':'MIRASSOL', 'NOVA LARANJEIRA':'NOVA_LARANJEIRAS',\n",
    "       'NOVA LARANJEIRAS':'NOVA_LARANJEIRAS', 'NOVAS LARANJEIRAS':'NOVA_LARANJEIRAS', 'OTACILIO COSTA':'OTACILIO_COSTA',\n",
    "       'P0ALMAS':'PALMAS', 'PALMAS':'PALMAS', 'PALMEIRINHA':'PALMEIRINHA', 'PALMITAL':'PALMITAL', 'PASSOS MAIA':'PASSOS_MAIA',\n",
    "       'PATO BRANCO':'PATO_BRANCO', 'PIEN':'PIEN', 'PINHA':'PINHAIS', 'PINHAIS':'PINHAIS', 'PINHAO':'PINHAO', 'PINHÃO':'PINHAO',\n",
    "       'PIRAI DO SUL':'PIRAI_DO_SUL', 'PIRAIBA DO SUL':'PIRAIBA_DO_SUL', 'PIRAÍ DO SUL':'PIRAI_DO_SUL', 'PONTA GROSSA':'PONTA_GROSSA',\n",
    "       'PONTE ALTA':'PONTE_ALTA', 'PONTE ALTA DO NORTE':'PONTE_ALTA_DO_NORTE', 'PONTE SERRADA':'PONTE_SERRADA',\n",
    "       'PORTO UNIAO':'PORTO_UNIAO', 'POTIM':'POTIM', 'PRESIDENTE PRUDENTE':'PRESIDENTE_PRUDENTE', 'QUEDAS DO IGUACU':'QUEDAS_DO_IGUACU',\n",
    "       'QUITANDINHA':'QUITANDINHA', 'RANCHARIA':'RANCHARIA', 'RIALMA':'RIALMA', 'RIO AZUL':'RIO_AZUL',\n",
    "       'RIO BRANCO DO SUL':'RIO_BRANCO_DO_SUL', 'RIO DAS ANTAS':'RIO_DAS_ANTAS', 'RIO DE JANEIRO':'RIO_DE_JANEIRO',\n",
    "       'RIO DO CAMPO':'RIO_DO_CAMPO', 'RIO DO SUL':'RIO_DO_SUL', 'RIO NEGRINHO':'RIO_NEGRINHO', 'RIO NEGRO':'RIO_NEGRO',\n",
    "       'Rio Bonito do Iguaçu':'RIO_BONITO_DO_IGUACU', 'SALVADOR':'SALVADOR', 'SANTA  CECILIA':'SANTA_CECILIA',\n",
    "       'SANTA CECIILIA':'SANTA_CECILIA', 'SANTA CECILI':'SANTA_CECILIA', 'SANTA CECILIA':'SANTA_CECILIA',\n",
    "       'SANTA CECILIA SC':'SANTA_CECILIA', 'SANTA CECIlia':'SANTA_CECILIA', 'SANTA CECLIA':'SANTA_CECILIA',\n",
    "       'SANTA CECÍLIA':'SANTA_CECILIA', 'SANTA CEILIA':'SANTA_CECILIA', 'SAO BENTO DO SUL':'SAO_BENTO_DO_SUL',\n",
    "       'SAO CRISTOVAO':'SAO_CRISTOVAO_DO_SUL', 'SAO CRISTOVAO DO SUIL':'SAO_CRISTOVAO_DO_SUL', 'SAO CRISTOVAO DO SUL':'SAO_CRISTOVAO_DO_SUL',\n",
    "       'SAO JOSE DO CERRITO':'SAO_JOSE_DO_CERRITO', 'SAO JOSE DOS PINHAIS':'SAO_JOSE_DOS_PINHAIS', 'SAO LEOPOLDO':'SAO_LEOPOLDO',\n",
    "       'SAO PAULO':'SAO_PAULO', 'São Cristovão do Sul':'SAO_CRISTOVAO_DO_SUL', 'TELEMACO BORBA':'TELEMACO_BORBA',\n",
    "       'TIMBO GRANDE':'TIMBO_GRANDE', 'TRES BARRAS':'TRES_BARRAS', 'TURVO':'TURVO', 'UNIAO DA VITORIA':'UNIAO_DA_VITORIA',\n",
    "       'UNIAO DA VITÓRIA':'UNIAO_DA_VITORIA', 'VENTANIA':'VENTANIA', 'VIDEIRA':'VIDEIRA', 'Videira':'VIDEIRA'}"
   ]
  },
  {
   "cell_type": "code",
   "execution_count": 22,
   "metadata": {
    "id": "G7hSZBqrlIqP"
   },
   "outputs": [],
   "source": [
    "# Substituindo o nome antigo pelo nome padrão\n",
    "df.CidadeFuncionario = df.CidadeFuncionario.map(mapeamento)"
   ]
  },
  {
   "cell_type": "code",
   "execution_count": 23,
   "metadata": {
    "colab": {
     "base_uri": "https://localhost:8080/"
    },
    "id": "UvHi1GPBozNm",
    "outputId": "ee0376aa-e287-4b2c-8e60-29c5f45085ff"
   },
   "outputs": [
    {
     "data": {
      "text/plain": [
       "array(['PALMAS', 'CLEVELANDIA', 'CEL_DOMINGOS_SOARES', 'GEN_CARNEIRO',\n",
       "       'BITURUNA', 'TELEMACO_BORBA', 'LAPA', 'CACADOR', 'PASSOS_MAIA',\n",
       "       'PALMEIRINHA', 'LEBON_REGIS', 'CALMON', 'INACIO_MARTINS', 'PINHAO',\n",
       "       'IRANI', 'CATANDUVAS', 'UNIAO_DA_VITORIA', 'TURVO', 'TIMBO_GRANDE',\n",
       "       'MONTE_CARLO', 'CANTAGALO', 'GUARAPUAVA', 'FAXINAL_DO_CEU',\n",
       "       'PINHAIS', 'CERRO_AZUL', 'ITAPERUCU', 'CASTRO', 'ITARARE',\n",
       "       'MATOS_COSTA', 'RIO_BRANCO_DO_SUL', 'IPIRANGA', 'ITAPEVA',\n",
       "       'RIALMA', 'MANGUEIRINHA', 'RIO_NEGRO', 'ARAPOTI', 'IMBAU',\n",
       "       'SAO_JOSE_DO_CERRITO', 'MALLET', 'IMBITUVA', 'MARACAS', 'MUCURI',\n",
       "       'IPABA', 'CURITIBA', 'MARIOPOLIS', 'LONDRINA', 'ABELARDO_LUZ',\n",
       "       'GUARATUBA', 'VENTANIA', 'FAZENDA_RIO_GRANDE', 'MIRASSOL',\n",
       "       'LENCOIS_PAULISTA', 'IPERO', 'SANTA_CECILIA',\n",
       "       'SAO_CRISTOVAO_DO_SUL', 'RIO_BONITO_DO_IGUACU',\n",
       "       'PONTE_ALTA_DO_NORTE', 'MARCILIANO_FERNANDES', 'IRENEOPOLIS',\n",
       "       'PONTE_ALTA', 'CORREIA_PINTO', 'RIO_DO_CAMPO', 'MONTE_CASTELO',\n",
       "       'CURITIBANOS', 'CAMPO_DO_TENENTE', 'IPATINGA', 'TRES_BARRAS',\n",
       "       'RIO_NEGRINHO', 'OTACILIO_COSTA', 'FRAIBURGO', 'RIO_DAS_ANTAS',\n",
       "       'VIDEIRA', 'CAMPO_BELO_DO_SUL', 'PORTO_UNIAO', 'PALMITAL',\n",
       "       'MARQUINHO', 'LARANJEIRAS_DO_SUL', 'NOVA_LARANJEIRAS',\n",
       "       'PIRAI_DO_SUL', 'PIRAIBA_DO_SUL', 'CAMPOS_NOVOS', 'AGUA_DOCE',\n",
       "       'CRUZ_MACHADO', 'CAMPO_ERE', 'SAO_LEOPOLDO', 'PRESIDENTE_PRUDENTE',\n",
       "       'SAO_BENTO_DO_SUL', 'ITAPETININGA', 'GRAVATAI', 'GLORINHA',\n",
       "       'RIO_DE_JANEIRO', 'BAURU', 'SALVADOR', 'SAO_JOSE_DOS_PINHAIS',\n",
       "       'PONTA_GROSSA', 'PIEN', 'LUZERNA', 'LAGES', 'SAO_PAULO', 'AGUDOS',\n",
       "       'CASCAVEL', 'RIO_DO_SUL', 'CAMPINAS', 'IPOJUCA',\n",
       "       'JABOATAO_DOS_GUARARAPES'], dtype=object)"
      ]
     },
     "execution_count": 23,
     "metadata": {},
     "output_type": "execute_result"
    }
   ],
   "source": [
    "# Conferindo os nomes das cidades.\n",
    "df.CidadeFuncionario.unique()"
   ]
  },
  {
   "cell_type": "code",
   "execution_count": 24,
   "metadata": {
    "id": "pvXonktLvy3V"
   },
   "outputs": [],
   "source": [
    "# Criando um dataSet com as variáveis que serão usadas .\n",
    "data = df[['Empresa', 'Cidade_Empresa',\n",
    "       'SalarioAtual', 'SexoFuncionario','qtdDependentes',\n",
    "       'EstadoCivilFuncionario', 'GrauInstrucao',\n",
    "       'FuncionarioSindicalizado', 'RecebeInsalubridade',\n",
    "       'RecebePericulosidade', 'CargaHorariaFuncionario','Situacao']]"
   ]
  },
  {
   "cell_type": "code",
   "execution_count": 25,
   "metadata": {
    "colab": {
     "base_uri": "https://localhost:8080/"
    },
    "id": "p5WPlxQOmP5a",
    "outputId": "f48b5984-c3f5-4805-bf16-50c95b77cca7"
   },
   "outputs": [
    {
     "name": "stdout",
     "output_type": "stream",
     "text": [
      "<class 'pandas.core.frame.DataFrame'>\n",
      "Int64Index: 5344 entries, 12 to 19349\n",
      "Data columns (total 12 columns):\n",
      " #   Column                    Non-Null Count  Dtype  \n",
      "---  ------                    --------------  -----  \n",
      " 0   Empresa                   5344 non-null   int64  \n",
      " 1   Cidade_Empresa            5344 non-null   int64  \n",
      " 2   SalarioAtual              5344 non-null   float64\n",
      " 3   SexoFuncionario           5344 non-null   int64  \n",
      " 4   qtdDependentes            5344 non-null   object \n",
      " 5   EstadoCivilFuncionario    5344 non-null   int64  \n",
      " 6   GrauInstrucao             5344 non-null   int64  \n",
      " 7   FuncionarioSindicalizado  5344 non-null   int64  \n",
      " 8   RecebeInsalubridade       5344 non-null   int64  \n",
      " 9   RecebePericulosidade      5344 non-null   int64  \n",
      " 10  CargaHorariaFuncionario   5344 non-null   int64  \n",
      " 11  Situacao                  5344 non-null   int64  \n",
      "dtypes: float64(1), int64(10), object(1)\n",
      "memory usage: 542.8+ KB\n"
     ]
    },
    {
     "data": {
      "text/plain": [
       "(None,\n",
       "            Empresa  Cidade_Empresa   SalarioAtual  SexoFuncionario  \\\n",
       " count  5344.000000     5344.000000    5344.000000      5344.000000   \n",
       " mean      1.039858        0.803144    1978.518125         0.256737   \n",
       " std       1.085224        0.746682    3389.186036         0.436874   \n",
       " min       0.000000        0.000000     405.000000         0.000000   \n",
       " 25%       0.000000        0.000000    1091.200000         0.000000   \n",
       " 50%       1.000000        1.000000    1547.300000         0.000000   \n",
       " 75%       1.000000        1.000000    1896.280000         1.000000   \n",
       " max       5.000000        4.000000  126111.850000         1.000000   \n",
       " \n",
       "        EstadoCivilFuncionario  GrauInstrucao  FuncionarioSindicalizado  \\\n",
       " count             5344.000000    5344.000000               5344.000000   \n",
       " mean                 1.291168       4.730352                  0.413174   \n",
       " std                  1.453821       1.945757                  0.492450   \n",
       " min                  0.000000       0.000000                  0.000000   \n",
       " 25%                  1.000000       3.000000                  0.000000   \n",
       " 50%                  1.000000       5.000000                  0.000000   \n",
       " 75%                  1.000000       6.000000                  1.000000   \n",
       " max                  7.000000      10.000000                  1.000000   \n",
       " \n",
       "        RecebeInsalubridade  RecebePericulosidade  CargaHorariaFuncionario  \\\n",
       " count          5344.000000           5344.000000              5344.000000   \n",
       " mean              0.008421              0.021332                 0.796781   \n",
       " std               0.091386              0.144503                 1.090797   \n",
       " min               0.000000              0.000000                 0.000000   \n",
       " 25%               0.000000              0.000000                 0.000000   \n",
       " 50%               0.000000              0.000000                 0.000000   \n",
       " 75%               0.000000              0.000000                 2.000000   \n",
       " max               1.000000              1.000000                 5.000000   \n",
       " \n",
       "           Situacao  \n",
       " count  5344.000000  \n",
       " mean      0.549588  \n",
       " std       0.497581  \n",
       " min       0.000000  \n",
       " 25%       0.000000  \n",
       " 50%       1.000000  \n",
       " 75%       1.000000  \n",
       " max       1.000000  )"
      ]
     },
     "execution_count": 25,
     "metadata": {},
     "output_type": "execute_result"
    }
   ],
   "source": [
    "# Verificando as informações do DataSet.\n",
    "data.info(),data.describe()"
   ]
  },
  {
   "cell_type": "code",
   "execution_count": 26,
   "metadata": {},
   "outputs": [
    {
     "name": "stderr",
     "output_type": "stream",
     "text": [
      "D:\\ProgramFiles\\Anaconda\\lib\\site-packages\\pandas\\core\\generic.py:5494: SettingWithCopyWarning: \n",
      "A value is trying to be set on a copy of a slice from a DataFrame.\n",
      "Try using .loc[row_indexer,col_indexer] = value instead\n",
      "\n",
      "See the caveats in the documentation: https://pandas.pydata.org/pandas-docs/stable/user_guide/indexing.html#returning-a-view-versus-a-copy\n",
      "  self[name] = value\n"
     ]
    }
   ],
   "source": [
    "# Transformando os dados de dependentes em inteiro.\n",
    "data.qtdDependentes = data.qtdDependentes.astype('int64')"
   ]
  },
  {
   "cell_type": "code",
   "execution_count": 27,
   "metadata": {
    "colab": {
     "base_uri": "https://localhost:8080/",
     "height": 408
    },
    "id": "4vzAb-VRSjpy",
    "outputId": "cc21d4eb-8570-448b-d253-c0f8ee3dc88d"
   },
   "outputs": [
    {
     "data": {
      "text/html": [
       "<div>\n",
       "<style scoped>\n",
       "    .dataframe tbody tr th:only-of-type {\n",
       "        vertical-align: middle;\n",
       "    }\n",
       "\n",
       "    .dataframe tbody tr th {\n",
       "        vertical-align: top;\n",
       "    }\n",
       "\n",
       "    .dataframe thead th {\n",
       "        text-align: right;\n",
       "    }\n",
       "</style>\n",
       "<table border=\"1\" class=\"dataframe\">\n",
       "  <thead>\n",
       "    <tr style=\"text-align: right;\">\n",
       "      <th></th>\n",
       "      <th>Empresa</th>\n",
       "      <th>Cidade_Empresa</th>\n",
       "      <th>SalarioAtual</th>\n",
       "      <th>SexoFuncionario</th>\n",
       "      <th>qtdDependentes</th>\n",
       "      <th>EstadoCivilFuncionario</th>\n",
       "      <th>GrauInstrucao</th>\n",
       "      <th>FuncionarioSindicalizado</th>\n",
       "      <th>RecebeInsalubridade</th>\n",
       "      <th>RecebePericulosidade</th>\n",
       "      <th>CargaHorariaFuncionario</th>\n",
       "      <th>Situacao</th>\n",
       "    </tr>\n",
       "  </thead>\n",
       "  <tbody>\n",
       "    <tr>\n",
       "      <th>Empresa</th>\n",
       "      <td>1.000000</td>\n",
       "      <td>0.931494</td>\n",
       "      <td>0.121329</td>\n",
       "      <td>-0.050800</td>\n",
       "      <td>-0.016305</td>\n",
       "      <td>-0.045555</td>\n",
       "      <td>0.254067</td>\n",
       "      <td>0.156193</td>\n",
       "      <td>0.036246</td>\n",
       "      <td>0.086476</td>\n",
       "      <td>0.236732</td>\n",
       "      <td>-0.014579</td>\n",
       "    </tr>\n",
       "    <tr>\n",
       "      <th>Cidade_Empresa</th>\n",
       "      <td>0.931494</td>\n",
       "      <td>1.000000</td>\n",
       "      <td>0.096371</td>\n",
       "      <td>-0.032654</td>\n",
       "      <td>-0.065858</td>\n",
       "      <td>0.005398</td>\n",
       "      <td>0.268508</td>\n",
       "      <td>0.306244</td>\n",
       "      <td>0.035269</td>\n",
       "      <td>0.073620</td>\n",
       "      <td>0.240412</td>\n",
       "      <td>0.001595</td>\n",
       "    </tr>\n",
       "    <tr>\n",
       "      <th>SalarioAtual</th>\n",
       "      <td>0.121329</td>\n",
       "      <td>0.096371</td>\n",
       "      <td>1.000000</td>\n",
       "      <td>-0.074788</td>\n",
       "      <td>0.175919</td>\n",
       "      <td>-0.095546</td>\n",
       "      <td>0.265337</td>\n",
       "      <td>-0.102636</td>\n",
       "      <td>-0.012245</td>\n",
       "      <td>0.079862</td>\n",
       "      <td>-0.102099</td>\n",
       "      <td>-0.219602</td>\n",
       "    </tr>\n",
       "    <tr>\n",
       "      <th>SexoFuncionario</th>\n",
       "      <td>-0.050800</td>\n",
       "      <td>-0.032654</td>\n",
       "      <td>-0.074788</td>\n",
       "      <td>1.000000</td>\n",
       "      <td>0.023668</td>\n",
       "      <td>0.042292</td>\n",
       "      <td>0.055915</td>\n",
       "      <td>-0.104285</td>\n",
       "      <td>0.138045</td>\n",
       "      <td>-0.080841</td>\n",
       "      <td>0.141317</td>\n",
       "      <td>-0.019833</td>\n",
       "    </tr>\n",
       "    <tr>\n",
       "      <th>qtdDependentes</th>\n",
       "      <td>-0.016305</td>\n",
       "      <td>-0.065858</td>\n",
       "      <td>0.175919</td>\n",
       "      <td>0.023668</td>\n",
       "      <td>1.000000</td>\n",
       "      <td>-0.027311</td>\n",
       "      <td>-0.070866</td>\n",
       "      <td>-0.109442</td>\n",
       "      <td>0.023336</td>\n",
       "      <td>0.060088</td>\n",
       "      <td>-0.059921</td>\n",
       "      <td>-0.217932</td>\n",
       "    </tr>\n",
       "    <tr>\n",
       "      <th>EstadoCivilFuncionario</th>\n",
       "      <td>-0.045555</td>\n",
       "      <td>0.005398</td>\n",
       "      <td>-0.095546</td>\n",
       "      <td>0.042292</td>\n",
       "      <td>-0.027311</td>\n",
       "      <td>1.000000</td>\n",
       "      <td>-0.121570</td>\n",
       "      <td>0.179101</td>\n",
       "      <td>0.002673</td>\n",
       "      <td>-0.054517</td>\n",
       "      <td>-0.088609</td>\n",
       "      <td>0.104484</td>\n",
       "    </tr>\n",
       "    <tr>\n",
       "      <th>GrauInstrucao</th>\n",
       "      <td>0.254067</td>\n",
       "      <td>0.268508</td>\n",
       "      <td>0.265337</td>\n",
       "      <td>0.055915</td>\n",
       "      <td>-0.070866</td>\n",
       "      <td>-0.121570</td>\n",
       "      <td>1.000000</td>\n",
       "      <td>-0.061063</td>\n",
       "      <td>-0.025120</td>\n",
       "      <td>0.152262</td>\n",
       "      <td>0.076733</td>\n",
       "      <td>-0.098792</td>\n",
       "    </tr>\n",
       "    <tr>\n",
       "      <th>FuncionarioSindicalizado</th>\n",
       "      <td>0.156193</td>\n",
       "      <td>0.306244</td>\n",
       "      <td>-0.102636</td>\n",
       "      <td>-0.104285</td>\n",
       "      <td>-0.109442</td>\n",
       "      <td>0.179101</td>\n",
       "      <td>-0.061063</td>\n",
       "      <td>1.000000</td>\n",
       "      <td>-0.035736</td>\n",
       "      <td>-0.023939</td>\n",
       "      <td>-0.111598</td>\n",
       "      <td>0.138640</td>\n",
       "    </tr>\n",
       "    <tr>\n",
       "      <th>RecebeInsalubridade</th>\n",
       "      <td>0.036246</td>\n",
       "      <td>0.035269</td>\n",
       "      <td>-0.012245</td>\n",
       "      <td>0.138045</td>\n",
       "      <td>0.023336</td>\n",
       "      <td>0.002673</td>\n",
       "      <td>-0.025120</td>\n",
       "      <td>-0.035736</td>\n",
       "      <td>1.000000</td>\n",
       "      <td>-0.013605</td>\n",
       "      <td>-0.061687</td>\n",
       "      <td>-0.015359</td>\n",
       "    </tr>\n",
       "    <tr>\n",
       "      <th>RecebePericulosidade</th>\n",
       "      <td>0.086476</td>\n",
       "      <td>0.073620</td>\n",
       "      <td>0.079862</td>\n",
       "      <td>-0.080841</td>\n",
       "      <td>0.060088</td>\n",
       "      <td>-0.054517</td>\n",
       "      <td>0.152262</td>\n",
       "      <td>-0.023939</td>\n",
       "      <td>-0.013605</td>\n",
       "      <td>1.000000</td>\n",
       "      <td>-0.023550</td>\n",
       "      <td>-0.098011</td>\n",
       "    </tr>\n",
       "    <tr>\n",
       "      <th>CargaHorariaFuncionario</th>\n",
       "      <td>0.236732</td>\n",
       "      <td>0.240412</td>\n",
       "      <td>-0.102099</td>\n",
       "      <td>0.141317</td>\n",
       "      <td>-0.059921</td>\n",
       "      <td>-0.088609</td>\n",
       "      <td>0.076733</td>\n",
       "      <td>-0.111598</td>\n",
       "      <td>-0.061687</td>\n",
       "      <td>-0.023550</td>\n",
       "      <td>1.000000</td>\n",
       "      <td>-0.080052</td>\n",
       "    </tr>\n",
       "    <tr>\n",
       "      <th>Situacao</th>\n",
       "      <td>-0.014579</td>\n",
       "      <td>0.001595</td>\n",
       "      <td>-0.219602</td>\n",
       "      <td>-0.019833</td>\n",
       "      <td>-0.217932</td>\n",
       "      <td>0.104484</td>\n",
       "      <td>-0.098792</td>\n",
       "      <td>0.138640</td>\n",
       "      <td>-0.015359</td>\n",
       "      <td>-0.098011</td>\n",
       "      <td>-0.080052</td>\n",
       "      <td>1.000000</td>\n",
       "    </tr>\n",
       "  </tbody>\n",
       "</table>\n",
       "</div>"
      ],
      "text/plain": [
       "                           Empresa  Cidade_Empresa  SalarioAtual  \\\n",
       "Empresa                   1.000000        0.931494      0.121329   \n",
       "Cidade_Empresa            0.931494        1.000000      0.096371   \n",
       "SalarioAtual              0.121329        0.096371      1.000000   \n",
       "SexoFuncionario          -0.050800       -0.032654     -0.074788   \n",
       "qtdDependentes           -0.016305       -0.065858      0.175919   \n",
       "EstadoCivilFuncionario   -0.045555        0.005398     -0.095546   \n",
       "GrauInstrucao             0.254067        0.268508      0.265337   \n",
       "FuncionarioSindicalizado  0.156193        0.306244     -0.102636   \n",
       "RecebeInsalubridade       0.036246        0.035269     -0.012245   \n",
       "RecebePericulosidade      0.086476        0.073620      0.079862   \n",
       "CargaHorariaFuncionario   0.236732        0.240412     -0.102099   \n",
       "Situacao                 -0.014579        0.001595     -0.219602   \n",
       "\n",
       "                          SexoFuncionario  qtdDependentes  \\\n",
       "Empresa                         -0.050800       -0.016305   \n",
       "Cidade_Empresa                  -0.032654       -0.065858   \n",
       "SalarioAtual                    -0.074788        0.175919   \n",
       "SexoFuncionario                  1.000000        0.023668   \n",
       "qtdDependentes                   0.023668        1.000000   \n",
       "EstadoCivilFuncionario           0.042292       -0.027311   \n",
       "GrauInstrucao                    0.055915       -0.070866   \n",
       "FuncionarioSindicalizado        -0.104285       -0.109442   \n",
       "RecebeInsalubridade              0.138045        0.023336   \n",
       "RecebePericulosidade            -0.080841        0.060088   \n",
       "CargaHorariaFuncionario          0.141317       -0.059921   \n",
       "Situacao                        -0.019833       -0.217932   \n",
       "\n",
       "                          EstadoCivilFuncionario  GrauInstrucao  \\\n",
       "Empresa                                -0.045555       0.254067   \n",
       "Cidade_Empresa                          0.005398       0.268508   \n",
       "SalarioAtual                           -0.095546       0.265337   \n",
       "SexoFuncionario                         0.042292       0.055915   \n",
       "qtdDependentes                         -0.027311      -0.070866   \n",
       "EstadoCivilFuncionario                  1.000000      -0.121570   \n",
       "GrauInstrucao                          -0.121570       1.000000   \n",
       "FuncionarioSindicalizado                0.179101      -0.061063   \n",
       "RecebeInsalubridade                     0.002673      -0.025120   \n",
       "RecebePericulosidade                   -0.054517       0.152262   \n",
       "CargaHorariaFuncionario                -0.088609       0.076733   \n",
       "Situacao                                0.104484      -0.098792   \n",
       "\n",
       "                          FuncionarioSindicalizado  RecebeInsalubridade  \\\n",
       "Empresa                                   0.156193             0.036246   \n",
       "Cidade_Empresa                            0.306244             0.035269   \n",
       "SalarioAtual                             -0.102636            -0.012245   \n",
       "SexoFuncionario                          -0.104285             0.138045   \n",
       "qtdDependentes                           -0.109442             0.023336   \n",
       "EstadoCivilFuncionario                    0.179101             0.002673   \n",
       "GrauInstrucao                            -0.061063            -0.025120   \n",
       "FuncionarioSindicalizado                  1.000000            -0.035736   \n",
       "RecebeInsalubridade                      -0.035736             1.000000   \n",
       "RecebePericulosidade                     -0.023939            -0.013605   \n",
       "CargaHorariaFuncionario                  -0.111598            -0.061687   \n",
       "Situacao                                  0.138640            -0.015359   \n",
       "\n",
       "                          RecebePericulosidade  CargaHorariaFuncionario  \\\n",
       "Empresa                               0.086476                 0.236732   \n",
       "Cidade_Empresa                        0.073620                 0.240412   \n",
       "SalarioAtual                          0.079862                -0.102099   \n",
       "SexoFuncionario                      -0.080841                 0.141317   \n",
       "qtdDependentes                        0.060088                -0.059921   \n",
       "EstadoCivilFuncionario               -0.054517                -0.088609   \n",
       "GrauInstrucao                         0.152262                 0.076733   \n",
       "FuncionarioSindicalizado             -0.023939                -0.111598   \n",
       "RecebeInsalubridade                  -0.013605                -0.061687   \n",
       "RecebePericulosidade                  1.000000                -0.023550   \n",
       "CargaHorariaFuncionario              -0.023550                 1.000000   \n",
       "Situacao                             -0.098011                -0.080052   \n",
       "\n",
       "                          Situacao  \n",
       "Empresa                  -0.014579  \n",
       "Cidade_Empresa            0.001595  \n",
       "SalarioAtual             -0.219602  \n",
       "SexoFuncionario          -0.019833  \n",
       "qtdDependentes           -0.217932  \n",
       "EstadoCivilFuncionario    0.104484  \n",
       "GrauInstrucao            -0.098792  \n",
       "FuncionarioSindicalizado  0.138640  \n",
       "RecebeInsalubridade      -0.015359  \n",
       "RecebePericulosidade     -0.098011  \n",
       "CargaHorariaFuncionario  -0.080052  \n",
       "Situacao                  1.000000  "
      ]
     },
     "execution_count": 27,
     "metadata": {},
     "output_type": "execute_result"
    }
   ],
   "source": [
    "# Verificando a correlação entre os dados de entrada e a variável alvo\n",
    "data.corr()"
   ]
  },
  {
   "cell_type": "code",
   "execution_count": 28,
   "metadata": {
    "colab": {
     "base_uri": "https://localhost:8080/"
    },
    "id": "M2s1uPTIxZu0",
    "outputId": "d0d767d1-2203-4107-c80c-3fcda5c25f84"
   },
   "outputs": [
    {
     "data": {
      "text/plain": [
       "Empresa                     0\n",
       "Cidade_Empresa              0\n",
       "SalarioAtual                0\n",
       "SexoFuncionario             0\n",
       "qtdDependentes              0\n",
       "EstadoCivilFuncionario      0\n",
       "GrauInstrucao               0\n",
       "FuncionarioSindicalizado    0\n",
       "RecebeInsalubridade         0\n",
       "RecebePericulosidade        0\n",
       "CargaHorariaFuncionario     0\n",
       "Situacao                    0\n",
       "dtype: int64"
      ]
     },
     "execution_count": 28,
     "metadata": {},
     "output_type": "execute_result"
    }
   ],
   "source": [
    "# Verificando se existem dados nulos no dataSet\n",
    "data.isnull().sum()"
   ]
  },
  {
   "cell_type": "code",
   "execution_count": 29,
   "metadata": {
    "colab": {
     "base_uri": "https://localhost:8080/",
     "height": 312
    },
    "id": "g1MB_IRhyJzv",
    "outputId": "4e5a046d-f23d-48d4-d67e-cee7b2833842"
   },
   "outputs": [
    {
     "data": {
      "image/png": "[encoded data removed]",
      "text/plain": [
       "<Figure size 432x288 with 1 Axes>"
      ]
     },
     "metadata": {
      "needs_background": "light"
     },
     "output_type": "display_data"
    }
   ],
   "source": [
    "# Plotando um gráfico para verificar a quantidade de dados de funcionários ativos e desligados.\n",
    "sns.countplot(x='Situacao',data=data)\n",
    "plt.title('Quantidade de dados funcionários Ativos(0), Desligados Com Turnover(1)')\n",
    "plt.show()"
   ]
  },
  {
   "cell_type": "code",
   "execution_count": 30,
   "metadata": {
    "colab": {
     "base_uri": "https://localhost:8080/",
     "height": 427
    },
    "id": "yUFcelW-zDao",
    "outputId": "727e0dfe-9e17-4d80-db98-3541cfb08ac9"
   },
   "outputs": [
    {
     "data": {
      "image/png": "[encoded data removed]",
      "text/plain": [
       "<Figure size 864x576 with 1 Axes>"
      ]
     },
     "metadata": {},
     "output_type": "display_data"
    }
   ],
   "source": [
    "# Plotando a proporção de dados de Ativos|Inativos na empresa.\n",
    "rotulos = df['Situacao'].value_counts().index\n",
    "cores = ['red','yellow','blue']\n",
    "valores = df['Situacao'].value_counts().values\n",
    "plt.figure(figsize=(12,8))\n",
    "plt.pie(valores,labels=rotulos,colors=cores,autopct='%1.1f%%')\n",
    "plt.suptitle('Proporção de dados de colaboradores ativos e desligados em até 1 ano de empresa.')\n",
    "plt.legend(['Desligado em até 1 ano de trabalho.','Ativo'],loc='best',bbox_to_anchor=(1,0.5))\n",
    "plt.show()"
   ]
  },
  {
   "cell_type": "code",
   "execution_count": 31,
   "metadata": {
    "colab": {
     "base_uri": "https://localhost:8080/",
     "height": 334
    },
    "id": "YFUufdVazWHS",
    "outputId": "f348baaf-fa03-4c7d-a1ec-ddaacf0bbcd9"
   },
   "outputs": [
    {
     "data": {
      "image/png": "[encoded data removed]",
      "text/plain": [
       "<Figure size 720x432 with 1 Axes>"
      ]
     },
     "metadata": {
      "needs_background": "light"
     },
     "output_type": "display_data"
    }
   ],
   "source": [
    "# Verificando a situação por gênero, onde 0 é Ativo e 1 é Desligado com menos de um ano de empresa.\n",
    "fig,ax = plt.subplots(figsize=(10,6))\n",
    "sns.countplot(x=df['Situacao'], hue=df['SexoFuncionario'])\n",
    "ax.set_xticklabels(['Ativo','Desligado'])\n",
    "plt.xticks(rotation=15)\n",
    "plt.show()"
   ]
  },
  {
   "cell_type": "code",
   "execution_count": 32,
   "metadata": {
    "colab": {
     "base_uri": "https://localhost:8080/",
     "height": 318
    },
    "id": "cQglt9-Q21mm",
    "outputId": "e9937ebd-66dd-4830-dc76-037a5c761e92"
   },
   "outputs": [
    {
     "data": {
      "image/png": "[encoded data removed]",
      "text/plain": [
       "<Figure size 1008x432 with 1 Axes>"
      ]
     },
     "metadata": {
      "needs_background": "light"
     },
     "output_type": "display_data"
    }
   ],
   "source": [
    "# Validando situação em relação ao Salário e Grau de Instrução.\n",
    "fig, ax = plt.subplots(figsize=(14,6))\n",
    "sns.barplot(y='GrauInstrucao',x='SalarioAtual',hue='Situacao',data=df,orient='h',ci=False)\n",
    "ax.set_yticklabels(['Analfabeto','4ª serie incompleta Ensino Fundamental','4ª completa Ensino Fundamental','5ª/8ª Ensino Fundamental',\n",
    "        'Ensino Fundamental Completo','Ensino Medio Incompleto','Ensino Medio Completo', 'Técnico','Superior Incompleto', \n",
    "         'Superior Completo','Superior Completo - Pós Graduacao'])\n",
    "plt.show()"
   ]
  },
  {
   "cell_type": "code",
   "execution_count": 33,
   "metadata": {
    "colab": {
     "base_uri": "https://localhost:8080/",
     "height": 385
    },
    "id": "tFrlboXM69WH",
    "outputId": "c65961df-d9bc-47c2-d614-8274229d0f73"
   },
   "outputs": [
    {
     "data": {
      "image/png": "[encoded data removed]",
      "text/plain": [
       "<Figure size 449.75x360 with 1 Axes>"
      ]
     },
     "metadata": {
      "needs_background": "light"
     },
     "output_type": "display_data"
    }
   ],
   "source": [
    "# Verificando Situação em relação ao Salário e Sexo do Funcionário.\n",
    "sns.catplot(x='Situacao',y='SalarioAtual',hue='SexoFuncionario',data=df)\n",
    "plt.show()"
   ]
  },
  {
   "cell_type": "code",
   "execution_count": 34,
   "metadata": {
    "id": "ryZ_ZbgC9Zqr"
   },
   "outputs": [],
   "source": [
    "# Retirando a variável alvo dos dados a serem previstos.\n",
    "from sklearn.model_selection import train_test_split\n",
    "X = data.drop(['Situacao'],axis=1).values\n",
    "y = data.Situacao.values"
   ]
  },
  {
   "cell_type": "code",
   "execution_count": 35,
   "metadata": {
    "id": "ZjVe1cGrBNmR"
   },
   "outputs": [],
   "source": [
    "from sklearn.linear_model import LogisticRegression\n",
    "from sklearn.svm import SVC\n",
    "from sklearn.ensemble import RandomForestClassifier\n",
    "from sklearn.naive_bayes import GaussianNB\n",
    "from sklearn.model_selection import cross_val_score,KFold,StratifiedKFold,cross_validate\n",
    "from sklearn.metrics import accuracy_score\n",
    "from sklearn.tree import DecisionTreeClassifier\n",
    "from sklearn.metrics import classification_report\n",
    "#import lazypredict\n",
    "#from lazypredict.Supervised import LazyClassifier\n",
    "import xgboost as xgb\n",
    "SEED = 42\n",
    "np.random.seed(SEED)\n",
    "X_treino,X_teste,y_treino,y_teste = train_test_split(X,y,test_size=0.33, random_state=SEED)"
   ]
  },
  {
   "cell_type": "code",
   "execution_count": 36,
   "metadata": {
    "id": "wErZeAzsC1bn"
   },
   "outputs": [],
   "source": [
    "# Usando KFold para a mistura dos dados de treino . \n",
    "cv = KFold(n_splits=5,shuffle=True)"
   ]
  },
  {
   "cell_type": "code",
   "execution_count": 37,
   "metadata": {
    "colab": {
     "base_uri": "https://localhost:8080/"
    },
    "id": "heW2j3C4C8GA",
    "outputId": "49772ece-5b0d-4bc9-d65a-daaef6558b7b"
   },
   "outputs": [
    {
     "name": "stdout",
     "output_type": "stream",
     "text": [
      "Acurácia média - Modelo Regressão Logística: 79.08%\n",
      "Intervalo de acurácia - Modelo Regressão Logística: [76.62% ~ 81.54%]\n",
      "\n",
      "Acurácia média - Modelo Floresta Aleatória: 90.25%\n",
      "Intervalo de acurácia - Modelo Floresta Aleatória: [88.83% ~ 91.67%]\n",
      "\n",
      "Acurácia média - Modelo Arvore Decisão: 89.39%\n",
      "Intervalo de acurácia - Modelo Arvore Decisão: [88.42% ~ 90.35%]\n",
      "\n",
      "Acurácia média - Modelo Naive Bayes: 65.36%\n",
      "Intervalo de acurácia - Modelo Naive Bayes: [63.49% ~ 67.24%]\n",
      "\n",
      "Acurácia média - Modelo Modelo SVC: 87.18%\n",
      "Intervalo de acurácia - Modelo Modelo SVC: [85.22% ~ 89.13%]\n",
      "\n",
      "Acurácia média - Modelo Modelo Reforço de Gradiente: 93.10%\n",
      "Intervalo de acurácia - Modelo Modelo Reforço de Gradiente: [91.23% ~ 94.98%]\n",
      "\n"
     ]
    }
   ],
   "source": [
    "# Passando e treinando os modelos de Machine Learning . \n",
    "modelo_svc = SVC()\n",
    "modeloFlorestaAleatoria = RandomForestClassifier(n_estimators=3)\n",
    "modeloArvoreDecisao = DecisionTreeClassifier(max_depth=2)\n",
    "modeloRegressaoLogistica = LogisticRegression(solver='liblinear',max_iter=50)\n",
    "modeloNaiveBayes = GaussianNB()\n",
    "modeloXGB = xgb.XGBClassifier(use_label_encoder=False,eval_metric='rmse')\n",
    "modelosTeste = [modeloRegressaoLogistica, modeloFlorestaAleatoria, modeloArvoreDecisao, modeloNaiveBayes, modelo_svc, modeloXGB]\n",
    "nome = ['Regressão Logística', \n",
    "         'Floresta Aleatória','Arvore Decisão','Naive Bayes','Modelo SVC','Modelo Reforço de Gradiente']\n",
    "np.random.seed(SEED)\n",
    "#cv = StratifiedKFold(n_splits = 5, shuffle = True)\n",
    "cont = 0\n",
    "for item in modelosTeste:\n",
    "    \n",
    "    resultados = cross_val_score(item, X_treino, y_treino, cv = cv, \n",
    "                              scoring = 'accuracy')\n",
    "    media = resultados.mean()\n",
    "    desvioPadrao = resultados.std()\n",
    "    print('Acurácia média - Modelo {}: {:.2f}%'\n",
    "          .format(nome[cont], media*100))\n",
    "    print('Intervalo de acurácia - Modelo {}: [{:.2f}% ~ {:.2f}%]\\n'\n",
    "           .format(nome[cont], \n",
    "                  (media - 2*desvioPadrao)*100, (media + 2*desvioPadrao)*100))\n",
    "    cont += 1"
   ]
  },
  {
   "cell_type": "code",
   "execution_count": 38,
   "metadata": {},
   "outputs": [
    {
     "name": "stdout",
     "output_type": "stream",
     "text": [
      "Feature_num:0 | Nome_feature: Empresa | Feature_importance :  9.10%\n",
      "Feature_num:1 | Nome_feature: Cidade_Empresa | Feature_importance :  7.82%\n",
      "Feature_num:2 | Nome_feature: SalarioAtual | Feature_importance :  29.52%\n",
      "Feature_num:3 | Nome_feature: SexoFuncionario | Feature_importance :  8.10%\n",
      "Feature_num:4 | Nome_feature: qtdDependentes | Feature_importance :  4.03%\n",
      "Feature_num:5 | Nome_feature: EstadoCivilFuncionario | Feature_importance :  3.89%\n",
      "Feature_num:6 | Nome_feature: GrauInstrucao | Feature_importance :  3.57%\n",
      "Feature_num:7 | Nome_feature: FuncionarioSindicalizado | Feature_importance :  5.08%\n",
      "Feature_num:8 | Nome_feature: RecebeInsalubridade | Feature_importance :  1.11%\n",
      "Feature_num:9 | Nome_feature: RecebePericulosidade | Feature_importance :  2.36%\n",
      "Feature_num:10 | Nome_feature: CargaHorariaFuncionario | Feature_importance :  25.41%\n"
     ]
    },
    {
     "data": {
      "image/png": "[encoded data removed]",
      "text/plain": [
       "<Figure size 864x576 with 1 Axes>"
      ]
     },
     "metadata": {
      "needs_background": "light"
     },
     "output_type": "display_data"
    }
   ],
   "source": [
    "# Calculando a importância das features para auxiliar na engenharia de recursos.\n",
    "modeloXGB.fit(X_treino,y_treino,eval_metric='rmse')\n",
    "importancia = modeloXGB.feature_importances_\n",
    "for i,v in enumerate(importancia):\n",
    "    nome = data.columns[i]\n",
    "    print('Feature_num:{} | Nome_feature: {} | Feature_importance :  {:.2f}%'.format(i,nome,v*100))\n",
    "# Plotando a Feature importance\n",
    "plt.figure(figsize=(12,8))\n",
    "plt.bar([x for x in range(len(importancia))], importancia)\n",
    "plt.show()"
   ]
  },
  {
   "cell_type": "code",
   "execution_count": 39,
   "metadata": {},
   "outputs": [
    {
     "data": {
      "text/plain": [
       "Index(['Empresa', 'Cidade_Empresa', 'SalarioAtual', 'SexoFuncionario',\n",
       "       'qtdDependentes', 'EstadoCivilFuncionario', 'GrauInstrucao',\n",
       "       'FuncionarioSindicalizado', 'RecebeInsalubridade',\n",
       "       'RecebePericulosidade', 'CargaHorariaFuncionario', 'Situacao'],\n",
       "      dtype='object')"
      ]
     },
     "execution_count": 39,
     "metadata": {},
     "output_type": "execute_result"
    }
   ],
   "source": [
    "data.columns"
   ]
  },
  {
   "cell_type": "code",
   "execution_count": 40,
   "metadata": {
    "colab": {
     "base_uri": "https://localhost:8080/"
    },
    "id": "mCxaNRIt4s_A",
    "outputId": "b9c047b7-eeaf-40da-f95c-b4fb1c835a72"
   },
   "outputs": [
    {
     "name": "stdout",
     "output_type": "stream",
     "text": [
      "Precisão média: 90.53%\n",
      "Intervalo de Precisão: [88.58% ~ 92.48%]\n"
     ]
    }
   ],
   "source": [
    "# Criando função para determinar a precisão do modelo.\n",
    "def intervalo_precisao(resultados):\n",
    "    media = resultados.mean()\n",
    "    desvioPadrao = resultados.std()\n",
    "    print('Precisão média: {:.2f}%'.format(media*100))\n",
    "    print('Intervalo de Precisão: [{:.2f}% ~ {:.2f}%]'\n",
    "          .format((media - 2*desvioPadrao)*100, (media + 2*desvioPadrao)*100))\n",
    "np.random.seed(SEED)\n",
    "cv = StratifiedKFold(n_splits = 5, shuffle = True)\n",
    "modeloFlorestaAleatoria = RandomForestClassifier(n_estimators=3)\n",
    "resultados = cross_val_score(modeloFlorestaAleatoria, X_treino, y_treino, cv = cv, \n",
    "                          scoring='precision_weighted')\n",
    "intervalo_precisao(resultados)"
   ]
  },
  {
   "cell_type": "code",
   "execution_count": 41,
   "metadata": {},
   "outputs": [
    {
     "name": "stdout",
     "output_type": "stream",
     "text": [
      "Recall médio: 89.32%\n",
      "Intervalo de Recall: [85.67% ~ 92.97%]\n"
     ]
    }
   ],
   "source": [
    "# Criando função para determinar o Recall do modelo.\n",
    "def intervalo_precisao(resultados):\n",
    "    media = resultados.mean()\n",
    "    desvioPadrao = resultados.std()\n",
    "    print('Recall médio: {:.2f}%'.format(media*100))\n",
    "    print('Intervalo de Recall: [{:.2f}% ~ {:.2f}%]'\n",
    "          .format((media - 2*desvioPadrao)*100, (media + 2*desvioPadrao)*100))\n",
    "np.random.seed(SEED)\n",
    "cv = StratifiedKFold(n_splits = 5, shuffle = True)\n",
    "modeloFlorestaAleatoria = RandomForestClassifier(n_estimators=3)\n",
    "resultados = cross_val_score(modeloFlorestaAleatoria, X_treino, y_treino, cv = cv, \n",
    "                          scoring='recall')\n",
    "intervalo_precisao(resultados)"
   ]
  },
  {
   "cell_type": "code",
   "execution_count": 42,
   "metadata": {
    "colab": {
     "base_uri": "https://localhost:8080/"
    },
    "id": "U3LTasHI04wp",
    "outputId": "d5272234-977a-4d9f-cb12-556b6eb6ce6f"
   },
   "outputs": [
    {
     "name": "stdout",
     "output_type": "stream",
     "text": [
      "Precisão média: 93.82%\n",
      "Intervalo de Precisão: [92.40% ~ 95.24%]\n"
     ]
    }
   ],
   "source": [
    "# Criando função para determinar a precisão do modelo.\n",
    "def intervalo_precisao(resultados):\n",
    "    media = resultados.mean()\n",
    "    desvioPadrao = resultados.std()\n",
    "    print('Precisão média: {:.2f}%'.format(media*100))\n",
    "    print('Intervalo de Precisão: [{:.2f}% ~ {:.2f}%]'\n",
    "          .format((media - 2*desvioPadrao)*100, (media + 2*desvioPadrao)*100))\n",
    "np.random.seed(SEED)\n",
    "cv = StratifiedKFold(n_splits = 5, shuffle = True)\n",
    "modeloXGB = xgb.XGBClassifier(use_label_encoder=False,eval_metric='rmse')\n",
    "resultados = cross_val_score(modeloXGB, X_treino, y_treino, cv = cv, \n",
    "                          scoring='precision_weighted')\n",
    "intervalo_precisao(resultados)"
   ]
  },
  {
   "cell_type": "code",
   "execution_count": 43,
   "metadata": {},
   "outputs": [
    {
     "name": "stdout",
     "output_type": "stream",
     "text": [
      "Recall médio: 91.33%\n",
      "Intervalo de Recall: [89.10% ~ 93.56%]\n"
     ]
    }
   ],
   "source": [
    "# Criando função para determinar a Recall do modelo.\n",
    "def intervalo_precisao(resultados):\n",
    "    media = resultados.mean()\n",
    "    desvioPadrao = resultados.std()\n",
    "    print('Recall médio: {:.2f}%'.format(media*100))\n",
    "    print('Intervalo de Recall: [{:.2f}% ~ {:.2f}%]'\n",
    "          .format((media - 2*desvioPadrao)*100, (media + 2*desvioPadrao)*100))\n",
    "np.random.seed(SEED)\n",
    "cv = StratifiedKFold(n_splits = 5, shuffle = True)\n",
    "modeloXGB = xgb.XGBClassifier(use_label_encoder=False,eval_metric='rmse')\n",
    "resultados = cross_val_score(modeloXGB, X_treino, y_treino, cv = cv, \n",
    "                          scoring='recall')\n",
    "intervalo_precisao(resultados)"
   ]
  },
  {
   "cell_type": "code",
   "execution_count": 44,
   "metadata": {
    "colab": {
     "base_uri": "https://localhost:8080/",
     "height": 297
    },
    "id": "u1tv73Yo6Oq0",
    "outputId": "ebf85801-7ac2-4ae9-c3e9-639b9826e464"
   },
   "outputs": [
    {
     "data": {
      "image/png": "[encoded data removed]",
      "text/plain": [
       "<Figure size 432x288 with 2 Axes>"
      ]
     },
     "metadata": {
      "needs_background": "light"
     },
     "output_type": "display_data"
    }
   ],
   "source": [
    "from sklearn.model_selection import cross_val_predict\n",
    "from sklearn.metrics import confusion_matrix\n",
    "np.random.seed(SEED)\n",
    "cv = StratifiedKFold(n_splits = 5, shuffle = True)\n",
    "model = xgb.XGBClassifier(use_label_encoder=False,eval_metric='rmse')\n",
    "y_pred = cross_val_predict(model, X_treino, y_treino, cv = cv)\n",
    "fig, ax = plt.subplots()\n",
    "sns.heatmap(confusion_matrix(y_treino, y_pred), annot=True, \n",
    "            ax=ax, fmt='d', cmap='Reds')\n",
    "ax.set_title(\"Matriz de Erro\", fontsize=18)\n",
    "ax.set_ylabel(\"Ativo = 0 | Desligado_Turnover = 1\")\n",
    "ax.set_xlabel(\"Predição\")\n",
    "plt.tight_layout()"
   ]
  },
  {
   "cell_type": "code",
   "execution_count": 45,
   "metadata": {},
   "outputs": [],
   "source": [
    "# Validando os melhores hiperparâmetros para o modelo.\n",
    "#from sklearn.model_selection import RandomizedSearchCV\n",
    "#params = { 'max_depth': [3, 5, 6, 10, 15, 20],\n",
    "#           'learning_rate': [0.01, 0.1, 0.2, 0.3],\n",
    "#           'subsample': np.arange(0.5, 1.0, 0.1),\n",
    "#           'colsample_bytree': np.arange(0.4, 1.0, 0.1),\n",
    "#           'colsample_bylevel': np.arange(0.4, 1.0, 0.1),\n",
    "#           'n_estimators': [100, 500, 1000]}\n",
    "#xgbr = xgb.XGBRegressor(seed = 20)\n",
    "#clf = RandomizedSearchCV(estimator=xgbr,\n",
    "#                         param_distributions=params,\n",
    "#                         scoring='neg_mean_squared_error',\n",
    "#                         n_iter=25,\n",
    "#                         verbose=1)\n",
    "#clf.fit(X_treino, y_treino)\n",
    "#print(\"Melhores parâmetros:\", clf.best_params_)\n",
    "#print(\"Mais baixo Erro Quadrático Médio: \", (-clf.best_score_)**(1/2.0))"
   ]
  },
  {
   "cell_type": "code",
   "execution_count": 46,
   "metadata": {
    "colab": {
     "base_uri": "https://localhost:8080/"
    },
    "id": "R9ygIFMK1uDg",
    "outputId": "a223644b-083f-4bb6-8d0e-03a30e949acd"
   },
   "outputs": [
    {
     "name": "stdout",
     "output_type": "stream",
     "text": [
      "Relatório de Classificação:\n",
      "               precision    recall  f1-score   support\n",
      "\n",
      "           0       0.89      0.96      0.92       822\n",
      "           1       0.96      0.89      0.93       942\n",
      "\n",
      "    accuracy                           0.92      1764\n",
      "   macro avg       0.92      0.93      0.92      1764\n",
      "weighted avg       0.93      0.92      0.92      1764\n",
      "\n"
     ]
    }
   ],
   "source": [
    "modelo_final = xgb.XGBClassifier(random_state=SEED,max_depth=3,learning_rate=0.3,subsample=0.79999,\n",
    "                                colsample_bytree=0.6,colsample_bylevel=0.89,use_label_encoder=False,eval_metric='rmse')\n",
    "modelo_final.fit(X_treino, y_treino)\n",
    "y_pred = modelo_final.predict(X_teste)\n",
    "# imprimindo relatório de classificação\n",
    "print(\"Relatório de Classificação:\\n\", \n",
    "       classification_report(y_teste, y_pred, digits=2))"
   ]
  },
  {
   "cell_type": "code",
   "execution_count": 47,
   "metadata": {
    "colab": {
     "base_uri": "https://localhost:8080/"
    },
    "id": "x4J0Zmab15EQ",
    "outputId": "93e555f7-957a-42e6-be85-08e69693d43c"
   },
   "outputs": [
    {
     "data": {
      "text/plain": [
       "{'objective': 'binary:logistic',\n",
       " 'use_label_encoder': False,\n",
       " 'base_score': 0.5,\n",
       " 'booster': 'gbtree',\n",
       " 'colsample_bylevel': 0.89,\n",
       " 'colsample_bynode': 1,\n",
       " 'colsample_bytree': 0.6,\n",
       " 'gamma': 0,\n",
       " 'gpu_id': -1,\n",
       " 'importance_type': 'gain',\n",
       " 'interaction_constraints': '',\n",
       " 'learning_rate': 0.3,\n",
       " 'max_delta_step': 0,\n",
       " 'max_depth': 3,\n",
       " 'min_child_weight': 1,\n",
       " 'missing': nan,\n",
       " 'monotone_constraints': '()',\n",
       " 'n_estimators': 100,\n",
       " 'n_jobs': 8,\n",
       " 'num_parallel_tree': 1,\n",
       " 'random_state': 42,\n",
       " 'reg_alpha': 0,\n",
       " 'reg_lambda': 1,\n",
       " 'scale_pos_weight': 1,\n",
       " 'subsample': 0.79999,\n",
       " 'tree_method': 'exact',\n",
       " 'validate_parameters': 1,\n",
       " 'verbosity': None,\n",
       " 'eval_metric': 'rmse'}"
      ]
     },
     "execution_count": 47,
     "metadata": {},
     "output_type": "execute_result"
    }
   ],
   "source": [
    "modelo_final.get_params()"
   ]
  },
  {
   "cell_type": "code",
   "execution_count": 48,
   "metadata": {
    "id": "6c84EMdRq19Y"
   },
   "outputs": [],
   "source": [
    "#from sklearn.externals import joblib\n",
    "#joblib.dump(modeloFlorestaAleatoria_final, 'modelo.pkl')"
   ]
  },
  {
   "cell_type": "code",
   "execution_count": 49,
   "metadata": {
    "colab": {
     "base_uri": "https://localhost:8080/"
    },
    "id": "wdr2dg_73ueB",
    "outputId": "aecd9dbb-e571-432a-b6c7-f0e17903ba97"
   },
   "outputs": [
    {
     "data": {
      "text/plain": [
       "['modeloXGB_binary.pkl']"
      ]
     },
     "execution_count": 49,
     "metadata": {},
     "output_type": "execute_result"
    }
   ],
   "source": [
    "import joblib\n",
    "joblib.dump(modelo_final, 'modeloXGB_binary.pkl')"
   ]
  }
 ],
 "metadata": {
  "colab": {
   "collapsed_sections": [],
   "name": "Análise Turnover3.ipynb",
   "provenance": []
  },
  "kernelspec": {
   "display_name": "Python 3",
   "language": "python",
   "name": "python3"
  },
  "language_info": {
   "codemirror_mode": {
    "name": "ipython",
    "version": 3
   },
   "file_extension": ".py",
   "mimetype": "text/x-python",
   "name": "python",
   "nbconvert_exporter": "python",
   "pygments_lexer": "ipython3",
   "version": "3.8.8"
  }
 },
 "nbformat": 4,
 "nbformat_minor": 1
}
