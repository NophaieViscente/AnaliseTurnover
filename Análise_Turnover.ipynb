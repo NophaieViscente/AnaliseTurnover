{
  "nbformat": 4,
  "nbformat_minor": 0,
  "metadata": {
    "colab": {
      "name": "Análise Turnover.ipynb",
      "provenance": [],
      "collapsed_sections": [],
      "mount_file_id": "1vF7RcKBWLmxWooMt4HnF6Qp6egLQ6ht1",
      "authorship_tag": "ABX9TyP/joZLHpgnSkANsmMltF/U",
      "include_colab_link": true
    },
    "kernelspec": {
      "name": "python3",
      "display_name": "Python 3"
    },
    "language_info": {
      "name": "python"
    }
  },
  "cells": [
    {
      "cell_type": "markdown",
      "metadata": {
        "id": "view-in-github",
        "colab_type": "text"
      },
      "source": [
        "<a href=\"https://colab.research.google.com/github/NophaieViscente/AnaliseTurnover/blob/main/An%C3%A1lise_Turnover.ipynb\" target=\"_parent\"><img src=\"https://colab.research.google.com/assets/colab-badge.svg\" alt=\"Open In Colab\"/></a>"
      ]
    },
    {
      "cell_type": "code",
      "metadata": {
        "id": "NNj8Z0pcennk"
      },
      "source": [
        "# Importando as Bibliotecas. \n",
        "import pandas as pd\n",
        "import matplotlib.pyplot as plt\n",
        "import seaborn as sns\n",
        "import numpy as np"
      ],
      "execution_count": 1,
      "outputs": []
    },
    {
      "cell_type": "code",
      "metadata": {
        "colab": {
          "base_uri": "https://localhost:8080/"
        },
        "id": "pLPrthVc0lAq",
        "outputId": "b4e75553-5ba5-48f5-b655-577b2a37db04"
      },
      "source": [
        "# Lendo o arquivo csv extraído.\n",
        "df = pd.read_csv('/content/drive/MyDrive/funcionarios.csv', encoding='latin-1')"
      ],
      "execution_count": 2,
      "outputs": [
        {
          "output_type": "stream",
          "name": "stderr",
          "text": [
            "/usr/local/lib/python3.7/dist-packages/IPython/core/interactiveshell.py:2718: DtypeWarning: Columns (1,19) have mixed types.Specify dtype option on import or set low_memory=False.\n",
            "  interactivity=interactivity, compiler=compiler, result=result)\n"
          ]
        }
      ]
    },
    {
      "cell_type": "code",
      "metadata": {
        "id": "5EWmHjJSJEJ1"
      },
      "source": [
        "# Retirando dados inconsistentes, que não contém a Data de Admissão.\n",
        "df = df.loc[df.DataAdmissao != '-']"
      ],
      "execution_count": 3,
      "outputs": []
    },
    {
      "cell_type": "code",
      "metadata": {
        "id": "NwgM3nmIJQTq"
      },
      "source": [
        "# Separando a Coluna 'ChaveLink' que contém as movimentações dos funcionários\n",
        "df[['Empresa','ID_Funcionario']] = df.ChaveFuncionario.str.split('|',expand=True)\n",
        "# Deletando a Coluna Chave Funcionário pois a mesma já foi separada junto com a coluna 'ChaveLink\n",
        "del df['ChaveFuncionario']"
      ],
      "execution_count": 4,
      "outputs": []
    },
    {
      "cell_type": "code",
      "metadata": {
        "id": "oosT7yqAqh7q"
      },
      "source": [
        "# Adicionando a Coluna Situação para cada funcionário\n",
        "df['Situacao'] = 'NaN'"
      ],
      "execution_count": 5,
      "outputs": []
    },
    {
      "cell_type": "code",
      "metadata": {
        "id": "twPjFIgRnAxz"
      },
      "source": [
        "# Colocando a situação dos funcionários no DataSet.\n",
        "df.loc[(df.DataDesligamento == '-'), 'Situacao'] = 'Ativo'\n",
        "df.loc[(df.DataDesligamento != '-'), 'Situacao'] = 'Desligado'"
      ],
      "execution_count": 6,
      "outputs": []
    },
    {
      "cell_type": "code",
      "metadata": {
        "colab": {
          "base_uri": "https://localhost:8080/"
        },
        "id": "qeg-FxqOD9HQ",
        "outputId": "1e22a9ac-5bc1-4bd7-faf2-85a640003bd4"
      },
      "source": [
        "df.info()"
      ],
      "execution_count": 71,
      "outputs": [
        {
          "output_type": "stream",
          "name": "stdout",
          "text": [
            "<class 'pandas.core.frame.DataFrame'>\n",
            "Int64Index: 485460 entries, 31 to 549608\n",
            "Data columns (total 26 columns):\n",
            " #   Column                     Non-Null Count   Dtype         \n",
            "---  ------                     --------------   -----         \n",
            " 0   Ano                        485460 non-null  object        \n",
            " 1   Mes                        485460 non-null  object        \n",
            " 2   DataAdmissao               485460 non-null  datetime64[ns]\n",
            " 3   DataDesligamento           485460 non-null  object        \n",
            " 4   CargoFuncionario           485460 non-null  object        \n",
            " 5   ValorSalario               485460 non-null  float64       \n",
            " 6   FaixaSalarial              485460 non-null  object        \n",
            " 7   SexoFuncionario            485460 non-null  object        \n",
            " 8   DataNascimentoFuncionario  485460 non-null  datetime64[ns]\n",
            " 9   EstadoCivilFuncionario     485460 non-null  object        \n",
            " 10  GrauInstrucao              485460 non-null  object        \n",
            " 11  CidadeFuncionario          485460 non-null  object        \n",
            " 12  BairroFuncionario          485371 non-null  object        \n",
            " 13  IniciativaRescisao         485460 non-null  object        \n",
            " 14  JustaCausaRescisao         485460 non-null  object        \n",
            " 15  FuncionarioSindicalizado   485460 non-null  object        \n",
            " 16  RecebeInsalubridade        485460 non-null  object        \n",
            " 17  RecebePericulosidade       485460 non-null  object        \n",
            " 18  CargaHorariaFuncionario    485460 non-null  object        \n",
            " 19  SituacaoFerias             485460 non-null  object        \n",
            " 20  CodigoDependente           485460 non-null  object        \n",
            " 21  GrauDependente             485460 non-null  object        \n",
            " 22  Empresa                    485460 non-null  object        \n",
            " 23  ID_Funcionario             485460 non-null  object        \n",
            " 24  Situacao                   485460 non-null  object        \n",
            " 25  Cidade_Empresa             485460 non-null  object        \n",
            "dtypes: datetime64[ns](2), float64(1), object(23)\n",
            "memory usage: 120.0+ MB\n"
          ]
        }
      ]
    },
    {
      "cell_type": "code",
      "metadata": {
        "id": "utHMbSIkup34"
      },
      "source": [
        "df.DataAdmissao = pd.to_datetime(df.DataAdmissao)\n",
        "df.DataNascimentoFuncionario = pd.to_datetime(df.DataNascimentoFuncionario)"
      ],
      "execution_count": 8,
      "outputs": []
    },
    {
      "cell_type": "code",
      "metadata": {
        "colab": {
          "base_uri": "https://localhost:8080/"
        },
        "id": "BOoweuc0EY24",
        "outputId": "9040875b-35b4-4890-82f4-32db03e2f306"
      },
      "source": [
        "df.columns"
      ],
      "execution_count": 9,
      "outputs": [
        {
          "output_type": "execute_result",
          "data": {
            "text/plain": [
              "Index(['Ano', 'Mes', 'DataAdmissao', 'DataDesligamento', 'CargoFuncionario',\n",
              "       'ValorSalario', 'FaixaSalarial', 'SexoFuncionario',\n",
              "       'DataNascimentoFuncionario', 'EstadoCivilFuncionario', 'GrauInstrucao',\n",
              "       'CidadeFuncionario', 'BairroFuncionario', 'IniciativaRescisao',\n",
              "       'JustaCausaRescisao', 'FuncionarioSindicalizado', 'RecebeInsalubridade',\n",
              "       'RecebePericulosidade', 'CargaHorariaFuncionario', 'SituacaoFerias',\n",
              "       'CodigoDependente', 'GrauDependente', 'Empresa', 'ID_Funcionario',\n",
              "       'Situacao'],\n",
              "      dtype='object')"
            ]
          },
          "metadata": {},
          "execution_count": 9
        }
      ]
    },
    {
      "cell_type": "code",
      "metadata": {
        "colab": {
          "base_uri": "https://localhost:8080/"
        },
        "id": "OcsqzoqDd4EU",
        "outputId": "c2c1f20d-90b6-4175-b348-7400748d7674"
      },
      "source": [
        "df.info()"
      ],
      "execution_count": 10,
      "outputs": [
        {
          "output_type": "stream",
          "name": "stdout",
          "text": [
            "<class 'pandas.core.frame.DataFrame'>\n",
            "Int64Index: 517424 entries, 31 to 549632\n",
            "Data columns (total 25 columns):\n",
            " #   Column                     Non-Null Count   Dtype         \n",
            "---  ------                     --------------   -----         \n",
            " 0   Ano                        517424 non-null  object        \n",
            " 1   Mes                        517424 non-null  object        \n",
            " 2   DataAdmissao               517424 non-null  datetime64[ns]\n",
            " 3   DataDesligamento           517424 non-null  object        \n",
            " 4   CargoFuncionario           517424 non-null  object        \n",
            " 5   ValorSalario               517424 non-null  object        \n",
            " 6   FaixaSalarial              517424 non-null  object        \n",
            " 7   SexoFuncionario            517424 non-null  object        \n",
            " 8   DataNascimentoFuncionario  517424 non-null  datetime64[ns]\n",
            " 9   EstadoCivilFuncionario     517424 non-null  object        \n",
            " 10  GrauInstrucao              517424 non-null  object        \n",
            " 11  CidadeFuncionario          517424 non-null  object        \n",
            " 12  BairroFuncionario          517327 non-null  object        \n",
            " 13  IniciativaRescisao         517424 non-null  object        \n",
            " 14  JustaCausaRescisao         517424 non-null  object        \n",
            " 15  FuncionarioSindicalizado   517424 non-null  object        \n",
            " 16  RecebeInsalubridade        517424 non-null  object        \n",
            " 17  RecebePericulosidade       517424 non-null  object        \n",
            " 18  CargaHorariaFuncionario    517424 non-null  object        \n",
            " 19  SituacaoFerias             517424 non-null  object        \n",
            " 20  CodigoDependente           517424 non-null  object        \n",
            " 21  GrauDependente             517424 non-null  object        \n",
            " 22  Empresa                    517424 non-null  object        \n",
            " 23  ID_Funcionario             517424 non-null  object        \n",
            " 24  Situacao                   517424 non-null  object        \n",
            "dtypes: datetime64[ns](2), object(23)\n",
            "memory usage: 102.6+ MB\n"
          ]
        }
      ]
    },
    {
      "cell_type": "code",
      "metadata": {
        "id": "gYkXkVFbtj7R"
      },
      "source": [
        "df['Cidade_Empresa'] = 'NaN'\n",
        "df.loc[(df.Empresa == '101'), 'Cidade_Empresa'] = 'Palmas-PR'\n",
        "df.loc[(df.Empresa == '701'), 'Cidade_Empresa'] = 'Cacador-SC'\n",
        "df.loc[(df.Empresa == '103'), 'Cidade_Empresa'] = 'Santa_Cecilia-SC'\n",
        "df.loc[(df.Empresa == '703'), 'Cidade_Empresa'] = 'Palmas-PR'"
      ],
      "execution_count": 11,
      "outputs": []
    },
    {
      "cell_type": "code",
      "metadata": {
        "id": "pvXonktLvy3V"
      },
      "source": [
        "data = df[['Empresa', 'Cidade_Empresa','Ano', 'Mes','CargoFuncionario',\n",
        "       'ValorSalario', 'SexoFuncionario',\n",
        "       'EstadoCivilFuncionario', 'GrauInstrucao',\n",
        "       'IniciativaRescisao','JustaCausaRescisao', 'FuncionarioSindicalizado', 'RecebeInsalubridade',\n",
        "       'RecebePericulosidade', 'CargaHorariaFuncionario', 'SituacaoFerias', 'Situacao']]"
      ],
      "execution_count": 12,
      "outputs": []
    },
    {
      "cell_type": "code",
      "metadata": {
        "id": "Tq4qtedoOEit",
        "colab": {
          "base_uri": "https://localhost:8080/"
        },
        "outputId": "f5840db4-842f-4a24-880f-321da25d04c1"
      },
      "source": [
        "# Colocando números nas categorias das 'colunasTransformar' .\n",
        "for nome_coluna in data.columns :\n",
        "  if (data[nome_coluna].dtype == 'object'):\n",
        "    data[nome_coluna]= data[nome_coluna].astype('category')\n",
        "    data[nome_coluna] = data[nome_coluna].cat.codes"
      ],
      "execution_count": 14,
      "outputs": [
        {
          "output_type": "stream",
          "name": "stderr",
          "text": [
            "/usr/local/lib/python3.7/dist-packages/ipykernel_launcher.py:4: SettingWithCopyWarning: \n",
            "A value is trying to be set on a copy of a slice from a DataFrame.\n",
            "Try using .loc[row_indexer,col_indexer] = value instead\n",
            "\n",
            "See the caveats in the documentation: https://pandas.pydata.org/pandas-docs/stable/user_guide/indexing.html#returning-a-view-versus-a-copy\n",
            "  after removing the cwd from sys.path.\n",
            "/usr/local/lib/python3.7/dist-packages/ipykernel_launcher.py:5: SettingWithCopyWarning: \n",
            "A value is trying to be set on a copy of a slice from a DataFrame.\n",
            "Try using .loc[row_indexer,col_indexer] = value instead\n",
            "\n",
            "See the caveats in the documentation: https://pandas.pydata.org/pandas-docs/stable/user_guide/indexing.html#returning-a-view-versus-a-copy\n",
            "  \"\"\"\n"
          ]
        }
      ]
    },
    {
      "cell_type": "code",
      "metadata": {
        "colab": {
          "base_uri": "https://localhost:8080/"
        },
        "id": "M2s1uPTIxZu0",
        "outputId": "3815a350-2e3d-463e-b8f2-7261737fa35e"
      },
      "source": [
        "data.isnull().sum()"
      ],
      "execution_count": 15,
      "outputs": [
        {
          "output_type": "execute_result",
          "data": {
            "text/plain": [
              "Empresa                     0\n",
              "Cidade_Empresa              0\n",
              "Ano                         0\n",
              "Mes                         0\n",
              "CargoFuncionario            0\n",
              "ValorSalario                0\n",
              "SexoFuncionario             0\n",
              "EstadoCivilFuncionario      0\n",
              "GrauInstrucao               0\n",
              "IniciativaRescisao          0\n",
              "JustaCausaRescisao          0\n",
              "FuncionarioSindicalizado    0\n",
              "RecebeInsalubridade         0\n",
              "RecebePericulosidade        0\n",
              "CargaHorariaFuncionario     0\n",
              "SituacaoFerias              0\n",
              "Situacao                    0\n",
              "dtype: int64"
            ]
          },
          "metadata": {},
          "execution_count": 15
        }
      ]
    },
    {
      "cell_type": "code",
      "metadata": {
        "colab": {
          "base_uri": "https://localhost:8080/",
          "height": 312
        },
        "id": "g1MB_IRhyJzv",
        "outputId": "66e9bb5e-4c8e-48aa-dfc4-fdb9ff6cf759"
      },
      "source": [
        "sns.countplot(x='Situacao',data=data)\n",
        "plt.title('Quantidade de dados funcionários desligados(1) e Ativos(0)')"
      ],
      "execution_count": 16,
      "outputs": [
        {
          "output_type": "execute_result",
          "data": {
            "text/plain": [
              "Text(0.5, 1.0, 'Quantidade de dados funcionários desligados(1) e Ativos(0)')"
            ]
          },
          "metadata": {},
          "execution_count": 16
        },
        {
          "output_type": "display_data",
          "data": {
            "image/png": "[encoded data removed]",
            "text/plain": [
              "<Figure size 432x288 with 1 Axes>"
            ]
          },
          "metadata": {
            "needs_background": "light"
          }
        }
      ]
    },
    {
      "cell_type": "code",
      "metadata": {
        "colab": {
          "base_uri": "https://localhost:8080/",
          "height": 427
        },
        "id": "yUFcelW-zDao",
        "outputId": "2c3654d3-d88d-4b0c-e788-0960dcd8b0cf"
      },
      "source": [
        "# Plotando a proporção de dados na empresa.\n",
        "rotulos = df['Situacao'].value_counts().index\n",
        "cores = ['red','yellow']\n",
        "valores = df['Situacao'].value_counts().values\n",
        "plt.figure(figsize=(7,7))\n",
        "plt.pie(valores,labels=rotulos,colors=cores,autopct='%1.1f%%')\n",
        "plt.title('Proporção de dados de movimentação de ativos e desligados.')\n",
        "plt.show()"
      ],
      "execution_count": 17,
      "outputs": [
        {
          "output_type": "display_data",
          "data": {
            "image/png": "[encoded data removed]",
            "text/plain": [
              "<Figure size 504x504 with 1 Axes>"
            ]
          },
          "metadata": {}
        }
      ]
    },
    {
      "cell_type": "code",
      "metadata": {
        "colab": {
          "base_uri": "https://localhost:8080/",
          "height": 333
        },
        "id": "YFUufdVazWHS",
        "outputId": "5fd543cb-c5ee-4099-8cd2-225c80fe2528"
      },
      "source": [
        "# Verificando a situação por gênero.\n",
        "sns.countplot(df['Situacao'], hue=df['SexoFuncionario'])\n",
        "plt.show()"
      ],
      "execution_count": 18,
      "outputs": [
        {
          "output_type": "stream",
          "name": "stderr",
          "text": [
            "/usr/local/lib/python3.7/dist-packages/seaborn/_decorators.py:43: FutureWarning: Pass the following variable as a keyword arg: x. From version 0.12, the only valid positional argument will be `data`, and passing other arguments without an explicit keyword will result in an error or misinterpretation.\n",
            "  FutureWarning\n"
          ]
        },
        {
          "output_type": "display_data",
          "data": {
            "image/png": "[encoded data removed]",
            "text/plain": [
              "<Figure size 432x288 with 1 Axes>"
            ]
          },
          "metadata": {
            "needs_background": "light"
          }
        }
      ]
    },
    {
      "cell_type": "code",
      "metadata": {
        "id": "wkNlcQDR0J7u"
      },
      "source": [
        "df.CargoFuncionario = df.CargoFuncionario.str.upper()"
      ],
      "execution_count": 19,
      "outputs": []
    },
    {
      "cell_type": "code",
      "metadata": {
        "id": "PPBNkQ9M3cEv"
      },
      "source": [
        "# capturando o indice das linhas que não tem o valor de salário.\n",
        "listaRemover = []\n",
        "for i in df.ValorSalario.items() :\n",
        "  if i[1] == '-' :\n",
        "    listaRemover.append(i[0])\n",
        "# Removendo as linhas capturadas do dataset.\n",
        "df = df.drop(listaRemover)"
      ],
      "execution_count": 21,
      "outputs": []
    },
    {
      "cell_type": "code",
      "metadata": {
        "id": "BUKqiIEq56G9"
      },
      "source": [
        "df.ValorSalario = df.ValorSalario.astype('float64')"
      ],
      "execution_count": 22,
      "outputs": []
    },
    {
      "cell_type": "code",
      "metadata": {
        "colab": {
          "base_uri": "https://localhost:8080/",
          "height": 469
        },
        "id": "cQglt9-Q21mm",
        "outputId": "d74f28f4-700c-4942-b406-2c16f9564cb8"
      },
      "source": [
        "sns.barplot(x='GrauInstrucao',y='ValorSalario',hue='Situacao',data=df)\n",
        "plt.xticks(rotation=90)"
      ],
      "execution_count": 23,
      "outputs": [
        {
          "output_type": "execute_result",
          "data": {
            "text/plain": [
              "(array([ 0,  1,  2,  3,  4,  5,  6,  7,  8,  9, 10]),\n",
              " <a list of 11 Text major ticklabel objects>)"
            ]
          },
          "metadata": {},
          "execution_count": 23
        },
        {
          "output_type": "display_data",
          "data": {
            "image/png": "[encoded data removed]",
            "text/plain": [
              "<Figure size 432x288 with 1 Axes>"
            ]
          },
          "metadata": {
            "needs_background": "light"
          }
        }
      ]
    },
    {
      "cell_type": "code",
      "metadata": {
        "colab": {
          "base_uri": "https://localhost:8080/",
          "height": 383
        },
        "id": "tFrlboXM69WH",
        "outputId": "1f0f358e-80a1-4529-872c-61de343b37ab"
      },
      "source": [
        "sns.catplot(x='Situacao',y='ValorSalario',hue='SexoFuncionario',data=df)\n",
        "plt.show()"
      ],
      "execution_count": 24,
      "outputs": [
        {
          "output_type": "display_data",
          "data": {
            "image/png": "[encoded data removed]",
            "text/plain": [
              "<Figure size 449.75x360 with 1 Axes>"
            ]
          },
          "metadata": {
            "needs_background": "light"
          }
        }
      ]
    },
    {
      "cell_type": "code",
      "metadata": {
        "id": "-tNQIo9Z9OQ9"
      },
      "source": [
        "data = data.drop('CargoFuncionario',axis=1)"
      ],
      "execution_count": 25,
      "outputs": []
    },
    {
      "cell_type": "code",
      "metadata": {
        "colab": {
          "base_uri": "https://localhost:8080/"
        },
        "id": "nKymo6uKGDHx",
        "outputId": "d862108b-9de0-4745-b5d4-4d2680cb544e"
      },
      "source": [
        "data.columns"
      ],
      "execution_count": 26,
      "outputs": [
        {
          "output_type": "execute_result",
          "data": {
            "text/plain": [
              "Index(['Empresa', 'Cidade_Empresa', 'Ano', 'Mes', 'ValorSalario',\n",
              "       'SexoFuncionario', 'EstadoCivilFuncionario', 'GrauInstrucao',\n",
              "       'IniciativaRescisao', 'JustaCausaRescisao', 'FuncionarioSindicalizado',\n",
              "       'RecebeInsalubridade', 'RecebePericulosidade',\n",
              "       'CargaHorariaFuncionario', 'SituacaoFerias', 'Situacao'],\n",
              "      dtype='object')"
            ]
          },
          "metadata": {},
          "execution_count": 26
        }
      ]
    },
    {
      "cell_type": "code",
      "metadata": {
        "id": "ryZ_ZbgC9Zqr"
      },
      "source": [
        "from sklearn.model_selection import train_test_split\n",
        "X = data.drop(['Situacao','IniciativaRescisao','JustaCausaRescisao'],axis=1).values\n",
        "y = data.Situacao.values"
      ],
      "execution_count": 27,
      "outputs": []
    },
    {
      "cell_type": "code",
      "metadata": {
        "id": "ZjVe1cGrBNmR"
      },
      "source": [
        "from sklearn.linear_model import LogisticRegression\n",
        "from sklearn.svm import SVC\n",
        "from sklearn.ensemble import RandomForestClassifier\n",
        "from sklearn.model_selection import cross_val_score,KFold,StratifiedKFold,cross_validate\n",
        "from sklearn.metrics import accuracy_score\n",
        "from sklearn.tree import DecisionTreeClassifier\n",
        "from sklearn.metrics import classification_report\n",
        "SEED = 42\n",
        "np.random.seed(SEED)\n",
        "X_treino,X_teste,y_treino,y_teste = train_test_split(X,y,test_size=0.33, random_state=SEED)"
      ],
      "execution_count": 28,
      "outputs": []
    },
    {
      "cell_type": "code",
      "metadata": {
        "id": "wErZeAzsC1bn"
      },
      "source": [
        "# Usando KFold para a mistura dos dados de treino . \n",
        "cv = KFold(n_splits=5,shuffle=True)"
      ],
      "execution_count": 29,
      "outputs": []
    },
    {
      "cell_type": "code",
      "metadata": {
        "colab": {
          "base_uri": "https://localhost:8080/"
        },
        "id": "heW2j3C4C8GA",
        "outputId": "6ce0b086-371d-4dfa-a16d-e045cfce202f"
      },
      "source": [
        "# Passando e treinando os modelos de Machine Learning . \n",
        "modelo_svc = SVC()\n",
        "modeloFlorestaAleatoria = RandomForestClassifier(n_estimators=9)\n",
        "modeloArvoreDecisao = DecisionTreeClassifier(max_depth=20)\n",
        "modeloRegressaoLogistica = LogisticRegression(solver='liblinear',max_iter=25)\n",
        "modelos = [modeloRegressaoLogistica, modeloFlorestaAleatoria, modeloArvoreDecisao]\n",
        "nome = ['Regressão Logística', \n",
        "         'Floresta Aleatória','Arvore Decisão']\n",
        "np.random.seed(SEED)\n",
        "cv = StratifiedKFold(n_splits = 5, shuffle = True)\n",
        "cont = 0\n",
        "for item in modelos:\n",
        "    \n",
        "    resultados = cross_val_score(item, X_treino, y_treino, cv = cv, \n",
        "                              scoring = 'accuracy')\n",
        "    media = resultados.mean()\n",
        "    desvioPadrao = resultados.std()\n",
        "    print('Acurácia média - Modelo {}: {:.2f}%'\n",
        "          .format(nome[cont], media*100))\n",
        "    print('Intervalo de acurácia - Modelo {}: [{:.2f}% ~ {:.2f}%]\\n'\n",
        "           .format(nome[cont], \n",
        "                  (media - 2*desvioPadrao)*100, (media + 2*desvioPadrao)*100))\n",
        "    cont += 1"
      ],
      "execution_count": 47,
      "outputs": [
        {
          "output_type": "stream",
          "name": "stdout",
          "text": [
            "Acurácia média - Modelo Regressão Logística: 66.40%\n",
            "Intervalo de acurácia - Modelo Regressão Logística: [66.16% ~ 66.65%]\n",
            "\n",
            "Acurácia média - Modelo Floresta Aleatória: 86.40%\n",
            "Intervalo de acurácia - Modelo Floresta Aleatória: [86.26% ~ 86.54%]\n",
            "\n",
            "Acurácia média - Modelo Arvore Decisão: 87.80%\n",
            "Intervalo de acurácia - Modelo Arvore Decisão: [87.43% ~ 88.17%]\n",
            "\n"
          ]
        }
      ]
    },
    {
      "cell_type": "code",
      "metadata": {
        "colab": {
          "base_uri": "https://localhost:8080/"
        },
        "id": "mCxaNRIt4s_A",
        "outputId": "94215450-8708-4727-866d-be242d274c1c"
      },
      "source": [
        "# Criando função para determinar a precisão do modelo.\n",
        "def intervalo_precisao(resultados):\n",
        "    media = resultados.mean()\n",
        "    desvioPadrao = resultados.std()\n",
        "    print('Precisão média: {:.2f}%'.format(media*100))\n",
        "    print('Intervalo de Precisão: [{:.2f}% ~ {:.2f}%]'\n",
        "          .format((media - 2*desvioPadrao)*100, (media + 2*desvioPadrao)*100))\n",
        "np.random.seed(SEED)\n",
        "cv = StratifiedKFold(n_splits = 5, shuffle = True)\n",
        "modeloFlorestaAleatoria = RandomForestClassifier(n_estimators=5)\n",
        "resultados = cross_val_score(modeloFlorestaAleatoria, X_treino, y_treino, cv = cv, \n",
        "                          scoring='precision_weighted')\n",
        "intervalo_precisao(resultados)"
      ],
      "execution_count": 67,
      "outputs": [
        {
          "output_type": "stream",
          "name": "stdout",
          "text": [
            "Precisão média: 85.79%\n",
            "Intervalo de Precisão: [85.52% ~ 86.06%]\n"
          ]
        }
      ]
    },
    {
      "cell_type": "code",
      "metadata": {
        "colab": {
          "base_uri": "https://localhost:8080/"
        },
        "id": "_dsWpiRN5dCu",
        "outputId": "ee16a534-cd64-4bb7-b337-a4fdf67dd52f"
      },
      "source": [
        "def intervalo_recall(results):\n",
        "    mean = results.mean()\n",
        "    dv = results.std()\n",
        "    print('Recall médio: {:.2f}%'.format(mean*100))\n",
        "    print('Intervalo de Recall: [{:.2f}% ~ {:.2f}%]'\n",
        "          .format((mean - 2*dv)*100, (mean + 2*dv)*100))\n",
        "np.random.seed(SEED)\n",
        "cv = StratifiedKFold(n_splits = 5, shuffle = True)\n",
        "model = RandomForestClassifier(n_estimators=5)\n",
        "results = cross_val_score(model, X_treino, y_treino, cv = cv, scoring = 'recall')\n",
        "intervalo_recall(results)"
      ],
      "execution_count": 69,
      "outputs": [
        {
          "output_type": "stream",
          "name": "stdout",
          "text": [
            "Recall médio: 76.52%\n",
            "Intervalo de Recall: [75.78% ~ 77.25%]\n"
          ]
        }
      ]
    },
    {
      "cell_type": "code",
      "metadata": {
        "colab": {
          "base_uri": "https://localhost:8080/",
          "height": 297
        },
        "id": "u1tv73Yo6Oq0",
        "outputId": "6ea8c619-8f0b-4299-9c99-46738b50f080"
      },
      "source": [
        "from sklearn.model_selection import cross_val_predict\n",
        "from sklearn.metrics import confusion_matrix\n",
        "np.random.seed(SEED)\n",
        "cv = StratifiedKFold(n_splits = 5, shuffle = True)\n",
        "model = RandomForestClassifier(n_estimators=5)\n",
        "y_pred = cross_val_predict(model, X_treino, y_treino, cv = cv)\n",
        "fig, ax = plt.subplots()\n",
        "sns.heatmap(confusion_matrix(y_treino, y_pred), annot=True, \n",
        "            ax=ax, fmt='d', cmap='Reds')\n",
        "ax.set_title(\"Matriz de Confusão\", fontsize=18)\n",
        "ax.set_ylabel(\"True label\")\n",
        "ax.set_xlabel(\"Predicted Label\")\n",
        "plt.tight_layout()"
      ],
      "execution_count": 70,
      "outputs": [
        {
          "output_type": "display_data",
          "data": {
            "image/png": "[encoded data removed]",
            "text/plain": [
              "<Figure size 432x288 with 2 Axes>"
            ]
          },
          "metadata": {
            "needs_background": "light"
          }
        }
      ]
    },
    {
      "cell_type": "code",
      "metadata": {
        "colab": {
          "base_uri": "https://localhost:8080/"
        },
        "id": "7YSdAMo71DQz",
        "outputId": "b1cd0142-5d8c-431d-da01-93fe049106f7"
      },
      "source": [
        "modeloFlorestaAleatoria_final = RandomForestClassifier(n_estimators=3)\n",
        "modeloFlorestaAleatoria_final.fit(X_treino, y_treino)\n",
        "y_pred = modeloFlorestaAleatoria_final.predict(X_teste)\n",
        "# imprimindo relatório de classificação\n",
        "print(\"Relatório de Classificação:\\n\", \n",
        "       classification_report(y_teste, y_pred, digits=2))"
      ],
      "execution_count": 65,
      "outputs": [
        {
          "output_type": "stream",
          "name": "stdout",
          "text": [
            "Relatório de Classificação:\n",
            "               precision    recall  f1-score   support\n",
            "\n",
            "           0       0.88      0.91      0.89    113312\n",
            "           1       0.81      0.76      0.78     57438\n",
            "\n",
            "    accuracy                           0.86    170750\n",
            "   macro avg       0.84      0.84      0.84    170750\n",
            "weighted avg       0.86      0.86      0.86    170750\n",
            "\n"
          ]
        }
      ]
    }
  ]
}