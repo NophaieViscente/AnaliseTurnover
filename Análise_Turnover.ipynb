{
  "nbformat": 4,
  "nbformat_minor": 0,
  "metadata": {
    "colab": {
      "name": "Análise Turnover.ipynb",
      "provenance": [],
      "collapsed_sections": [],
      "mount_file_id": "1vF7RcKBWLmxWooMt4HnF6Qp6egLQ6ht1",
      "authorship_tag": "ABX9TyOtJifn0qhJA9rJQHjap5ao",
      "include_colab_link": true
    },
    "kernelspec": {
      "name": "python3",
      "display_name": "Python 3"
    },
    "language_info": {
      "name": "python"
    }
  },
  "cells": [
    {
      "cell_type": "markdown",
      "metadata": {
        "id": "view-in-github",
        "colab_type": "text"
      },
      "source": [
        "<a href=\"https://colab.research.google.com/github/NophaieViscente/AnaliseTurnover/blob/main/An%C3%A1lise_Turnover.ipynb\" target=\"_parent\"><img src=\"https://colab.research.google.com/assets/colab-badge.svg\" alt=\"Open In Colab\"/></a>"
      ]
    },
    {
      "cell_type": "code",
      "metadata": {
        "id": "NNj8Z0pcennk"
      },
      "source": [
        "# Importando as Bibliotecas. \n",
        "import pandas as pd\n",
        "import matplotlib.pyplot as plt\n",
        "import seaborn as sns\n",
        "import numpy as np"
      ],
      "execution_count": null,
      "outputs": []
    },
    {
      "cell_type": "code",
      "metadata": {
        "id": "pLPrthVc0lAq"
      },
      "source": [
        "# Lendo o arquivo csv extraído.\n",
        "df = pd.read_csv('/content/drive/MyDrive/funcionarios_unique.csv', encoding='latin-1')"
      ],
      "execution_count": null,
      "outputs": []
    },
    {
      "cell_type": "code",
      "metadata": {
        "id": "5EWmHjJSJEJ1"
      },
      "source": [
        "# Retirando dados inconsistentes, que não contém a Data de Admissão.\n",
        "df = df.loc[df.DataAdmissao != '-']"
      ],
      "execution_count": null,
      "outputs": []
    },
    {
      "cell_type": "code",
      "metadata": {
        "id": "NwgM3nmIJQTq"
      },
      "source": [
        "# Separando a Coluna 'ChaveLink' que contém as movimentações dos funcionários\n",
        "df[['Empresa','ID_Funcionario']] = df.ChaveFuncionario.str.split('|',expand=True)\n",
        "# Deletando a Coluna Chave Funcionário pois a mesma já foi separada junto com a coluna 'ChaveLink\n",
        "del df['ChaveFuncionario']"
      ],
      "execution_count": null,
      "outputs": []
    },
    {
      "cell_type": "code",
      "metadata": {
        "id": "oosT7yqAqh7q"
      },
      "source": [
        "# Adicionando a Coluna Situação para cada funcionário\n",
        "df['Situacao'] = 'NaN'"
      ],
      "execution_count": null,
      "outputs": []
    },
    {
      "cell_type": "code",
      "metadata": {
        "id": "twPjFIgRnAxz"
      },
      "source": [
        "# Colocando a situação dos funcionários no DataSet.\n",
        "df.loc[(df.DataDesligamento == '-'), 'Situacao'] = 'Ativo'\n",
        "df.loc[(df.DataDesligamento != '-'), 'Situacao'] = 'Desligado'"
      ],
      "execution_count": null,
      "outputs": []
    },
    {
      "cell_type": "code",
      "metadata": {
        "colab": {
          "base_uri": "https://localhost:8080/"
        },
        "id": "qeg-FxqOD9HQ",
        "outputId": "c47bd306-2984-4da7-a22d-43ac5764f6ac"
      },
      "source": [
        "df.info()"
      ],
      "execution_count": null,
      "outputs": [
        {
          "output_type": "stream",
          "name": "stdout",
          "text": [
            "<class 'pandas.core.frame.DataFrame'>\n",
            "Int64Index: 7261 entries, 12 to 19349\n",
            "Data columns (total 17 columns):\n",
            " #   Column                     Non-Null Count  Dtype \n",
            "---  ------                     --------------  ----- \n",
            " 0   DataAdmissao               7261 non-null   object\n",
            " 1   DataDesligamento           7261 non-null   object\n",
            " 2   SalarioAtual               7261 non-null   object\n",
            " 3   SexoFuncionario            7261 non-null   object\n",
            " 4   DataNascimentoFuncionario  7261 non-null   object\n",
            " 5   EstadoCivilFuncionario     7261 non-null   object\n",
            " 6   FaixaTempoEmpresa          7261 non-null   object\n",
            " 7   GrauInstrucao              7261 non-null   object\n",
            " 8   CidadeFuncionario          7261 non-null   object\n",
            " 9   BairroFuncionario          7258 non-null   object\n",
            " 10  FuncionarioSindicalizado   7261 non-null   object\n",
            " 11  RecebeInsalubridade        7261 non-null   object\n",
            " 12  RecebePericulosidade       7261 non-null   object\n",
            " 13  CargaHorariaFuncionario    7261 non-null   object\n",
            " 14  Empresa                    7261 non-null   object\n",
            " 15  ID_Funcionario             7261 non-null   object\n",
            " 16  Situacao                   7261 non-null   object\n",
            "dtypes: object(17)\n",
            "memory usage: 1021.1+ KB\n"
          ]
        }
      ]
    },
    {
      "cell_type": "code",
      "metadata": {
        "id": "utHMbSIkup34"
      },
      "source": [
        "df.DataAdmissao = pd.to_datetime(df.DataAdmissao)\n",
        "df.DataNascimentoFuncionario = pd.to_datetime(df.DataNascimentoFuncionario)"
      ],
      "execution_count": null,
      "outputs": []
    },
    {
      "cell_type": "code",
      "metadata": {
        "colab": {
          "base_uri": "https://localhost:8080/"
        },
        "id": "BOoweuc0EY24",
        "outputId": "753b9208-08d3-4d64-9ce8-313dc2c0cf30"
      },
      "source": [
        "df.columns"
      ],
      "execution_count": null,
      "outputs": [
        {
          "output_type": "execute_result",
          "data": {
            "text/plain": [
              "Index(['DataAdmissao', 'DataDesligamento', 'SalarioAtual', 'SexoFuncionario',\n",
              "       'DataNascimentoFuncionario', 'EstadoCivilFuncionario',\n",
              "       'FaixaTempoEmpresa', 'GrauInstrucao', 'CidadeFuncionario',\n",
              "       'BairroFuncionario', 'FuncionarioSindicalizado', 'RecebeInsalubridade',\n",
              "       'RecebePericulosidade', 'CargaHorariaFuncionario', 'Empresa',\n",
              "       'ID_Funcionario', 'Situacao'],\n",
              "      dtype='object')"
            ]
          },
          "metadata": {},
          "execution_count": 42
        }
      ]
    },
    {
      "cell_type": "code",
      "metadata": {
        "colab": {
          "base_uri": "https://localhost:8080/"
        },
        "id": "OcsqzoqDd4EU",
        "outputId": "616d8fa7-a4f7-4b09-a1e8-3b03d712f901"
      },
      "source": [
        "df.info()"
      ],
      "execution_count": null,
      "outputs": [
        {
          "output_type": "stream",
          "name": "stdout",
          "text": [
            "<class 'pandas.core.frame.DataFrame'>\n",
            "Int64Index: 7261 entries, 12 to 19349\n",
            "Data columns (total 17 columns):\n",
            " #   Column                     Non-Null Count  Dtype         \n",
            "---  ------                     --------------  -----         \n",
            " 0   DataAdmissao               7261 non-null   datetime64[ns]\n",
            " 1   DataDesligamento           7261 non-null   object        \n",
            " 2   SalarioAtual               7261 non-null   object        \n",
            " 3   SexoFuncionario            7261 non-null   object        \n",
            " 4   DataNascimentoFuncionario  7261 non-null   datetime64[ns]\n",
            " 5   EstadoCivilFuncionario     7261 non-null   object        \n",
            " 6   FaixaTempoEmpresa          7261 non-null   object        \n",
            " 7   GrauInstrucao              7261 non-null   object        \n",
            " 8   CidadeFuncionario          7261 non-null   object        \n",
            " 9   BairroFuncionario          7258 non-null   object        \n",
            " 10  FuncionarioSindicalizado   7261 non-null   object        \n",
            " 11  RecebeInsalubridade        7261 non-null   object        \n",
            " 12  RecebePericulosidade       7261 non-null   object        \n",
            " 13  CargaHorariaFuncionario    7261 non-null   object        \n",
            " 14  Empresa                    7261 non-null   object        \n",
            " 15  ID_Funcionario             7261 non-null   object        \n",
            " 16  Situacao                   7261 non-null   object        \n",
            "dtypes: datetime64[ns](2), object(15)\n",
            "memory usage: 1021.1+ KB\n"
          ]
        }
      ]
    },
    {
      "cell_type": "code",
      "metadata": {
        "id": "gYkXkVFbtj7R"
      },
      "source": [
        "df['Cidade_Empresa'] = 'NaN'\n",
        "df.loc[(df.Empresa == '101'), 'Cidade_Empresa'] = 'Palmas-PR'\n",
        "df.loc[(df.Empresa == '701'), 'Cidade_Empresa'] = 'Cacador-SC'\n",
        "df.loc[(df.Empresa == '103'), 'Cidade_Empresa'] = 'Santa_Cecilia-SC'\n",
        "df.loc[(df.Empresa == '703'), 'Cidade_Empresa'] = 'Palmas-PR'"
      ],
      "execution_count": null,
      "outputs": []
    },
    {
      "cell_type": "code",
      "metadata": {
        "id": "pvXonktLvy3V"
      },
      "source": [
        "data = df[['Empresa', 'Cidade_Empresa',\n",
        "       'SalarioAtual', 'SexoFuncionario',\n",
        "       'EstadoCivilFuncionario', 'GrauInstrucao', 'FaixaTempoEmpresa',\n",
        "       'FuncionarioSindicalizado', 'RecebeInsalubridade',\n",
        "       'RecebePericulosidade', 'CargaHorariaFuncionario','Situacao']]"
      ],
      "execution_count": null,
      "outputs": []
    },
    {
      "cell_type": "code",
      "metadata": {
        "id": "Tq4qtedoOEit",
        "colab": {
          "base_uri": "https://localhost:8080/"
        },
        "outputId": "e6cfe69b-48e3-4bb4-a25a-52dc39c86458"
      },
      "source": [
        "# Colocando números nas categorias das 'colunasTransformar' .\n",
        "for nome_coluna in data.columns :\n",
        "  if (data[nome_coluna].dtype == 'object'):\n",
        "    data[nome_coluna]= data[nome_coluna].astype('category')\n",
        "    data[nome_coluna] = data[nome_coluna].cat.codes"
      ],
      "execution_count": null,
      "outputs": [
        {
          "output_type": "stream",
          "name": "stderr",
          "text": [
            "/usr/local/lib/python3.7/dist-packages/ipykernel_launcher.py:4: SettingWithCopyWarning: \n",
            "A value is trying to be set on a copy of a slice from a DataFrame.\n",
            "Try using .loc[row_indexer,col_indexer] = value instead\n",
            "\n",
            "See the caveats in the documentation: https://pandas.pydata.org/pandas-docs/stable/user_guide/indexing.html#returning-a-view-versus-a-copy\n",
            "  after removing the cwd from sys.path.\n",
            "/usr/local/lib/python3.7/dist-packages/ipykernel_launcher.py:5: SettingWithCopyWarning: \n",
            "A value is trying to be set on a copy of a slice from a DataFrame.\n",
            "Try using .loc[row_indexer,col_indexer] = value instead\n",
            "\n",
            "See the caveats in the documentation: https://pandas.pydata.org/pandas-docs/stable/user_guide/indexing.html#returning-a-view-versus-a-copy\n",
            "  \"\"\"\n"
          ]
        }
      ]
    },
    {
      "cell_type": "code",
      "metadata": {
        "colab": {
          "base_uri": "https://localhost:8080/"
        },
        "id": "M2s1uPTIxZu0",
        "outputId": "db312390-deb8-4d5b-e34e-fe4538f2a74a"
      },
      "source": [
        "data.isnull().sum()"
      ],
      "execution_count": null,
      "outputs": [
        {
          "output_type": "execute_result",
          "data": {
            "text/plain": [
              "Empresa                     0\n",
              "Cidade_Empresa              0\n",
              "SalarioAtual                0\n",
              "SexoFuncionario             0\n",
              "EstadoCivilFuncionario      0\n",
              "GrauInstrucao               0\n",
              "FaixaTempoEmpresa           0\n",
              "FuncionarioSindicalizado    0\n",
              "RecebeInsalubridade         0\n",
              "RecebePericulosidade        0\n",
              "CargaHorariaFuncionario     0\n",
              "Situacao                    0\n",
              "dtype: int64"
            ]
          },
          "metadata": {},
          "execution_count": 50
        }
      ]
    },
    {
      "cell_type": "code",
      "metadata": {
        "colab": {
          "base_uri": "https://localhost:8080/",
          "height": 312
        },
        "id": "g1MB_IRhyJzv",
        "outputId": "1afeca5f-0902-4fe1-ae61-6b8d55e0e5c8"
      },
      "source": [
        "sns.countplot(x='Situacao',data=data)\n",
        "plt.title('Quantidade de dados funcionários desligados(1) e Ativos(0)')"
      ],
      "execution_count": null,
      "outputs": [
        {
          "output_type": "execute_result",
          "data": {
            "text/plain": [
              "Text(0.5, 1.0, 'Quantidade de dados funcionários desligados(1) e Ativos(0)')"
            ]
          },
          "metadata": {},
          "execution_count": 51
        },
        {
          "output_type": "display_data",
          "data": {
            "image/png": "[encoded data removed]",
            "text/plain": [
              "<Figure size 432x288 with 1 Axes>"
            ]
          },
          "metadata": {
            "needs_background": "light"
          }
        }
      ]
    },
    {
      "cell_type": "code",
      "metadata": {
        "colab": {
          "base_uri": "https://localhost:8080/",
          "height": 427
        },
        "id": "yUFcelW-zDao",
        "outputId": "18dd8409-30fd-48cf-ba68-eb89c44d7e76"
      },
      "source": [
        "# Plotando a proporção de dados na empresa.\n",
        "rotulos = df['Situacao'].value_counts().index\n",
        "cores = ['red','yellow']\n",
        "valores = df['Situacao'].value_counts().values\n",
        "plt.figure(figsize=(7,7))\n",
        "plt.pie(valores,labels=rotulos,colors=cores,autopct='%1.1f%%')\n",
        "plt.title('Proporção de dados de movimentação de ativos e desligados.')\n",
        "plt.show()"
      ],
      "execution_count": null,
      "outputs": [
        {
          "output_type": "display_data",
          "data": {
            "image/png": "[encoded data removed]",
            "text/plain": [
              "<Figure size 504x504 with 1 Axes>"
            ]
          },
          "metadata": {}
        }
      ]
    },
    {
      "cell_type": "code",
      "metadata": {
        "colab": {
          "base_uri": "https://localhost:8080/",
          "height": 333
        },
        "id": "YFUufdVazWHS",
        "outputId": "3efbe497-c300-4a3d-d410-4ce4d23b2954"
      },
      "source": [
        "# Verificando a situação por gênero.\n",
        "sns.countplot(df['Situacao'], hue=df['SexoFuncionario'])\n",
        "plt.show()"
      ],
      "execution_count": null,
      "outputs": [
        {
          "output_type": "stream",
          "name": "stderr",
          "text": [
            "/usr/local/lib/python3.7/dist-packages/seaborn/_decorators.py:43: FutureWarning: Pass the following variable as a keyword arg: x. From version 0.12, the only valid positional argument will be `data`, and passing other arguments without an explicit keyword will result in an error or misinterpretation.\n",
            "  FutureWarning\n"
          ]
        },
        {
          "output_type": "display_data",
          "data": {
            "image/png": "[encoded data removed]",
            "text/plain": [
              "<Figure size 432x288 with 1 Axes>"
            ]
          },
          "metadata": {
            "needs_background": "light"
          }
        }
      ]
    },
    {
      "cell_type": "code",
      "metadata": {
        "id": "wkNlcQDR0J7u"
      },
      "source": [
        "df.CargoFuncionario = df.CargoFuncionario.str.upper()"
      ],
      "execution_count": null,
      "outputs": []
    },
    {
      "cell_type": "code",
      "metadata": {
        "id": "PPBNkQ9M3cEv"
      },
      "source": [
        "# capturando o indice das linhas que não tem o valor de salário.\n",
        "listaRemover = []\n",
        "for i in df.SalarioAtual.items() :\n",
        "  if i[1] == '-' :\n",
        "    listaRemover.append(i[0])\n",
        "# Removendo as linhas capturadas do dataset.\n",
        "df = df.drop(listaRemover)"
      ],
      "execution_count": null,
      "outputs": []
    },
    {
      "cell_type": "code",
      "metadata": {
        "id": "BUKqiIEq56G9"
      },
      "source": [
        "df.SalarioAtual = df.SalarioAtual.astype('float64')"
      ],
      "execution_count": null,
      "outputs": []
    },
    {
      "cell_type": "code",
      "metadata": {
        "colab": {
          "base_uri": "https://localhost:8080/",
          "height": 469
        },
        "id": "cQglt9-Q21mm",
        "outputId": "57b49643-0f59-450a-d8d5-4e49ec1349dd"
      },
      "source": [
        "sns.barplot(x='GrauInstrucao',y='SalarioAtual',hue='Situacao',data=df)\n",
        "plt.xticks(rotation=90)"
      ],
      "execution_count": null,
      "outputs": [
        {
          "output_type": "execute_result",
          "data": {
            "text/plain": [
              "(array([ 0,  1,  2,  3,  4,  5,  6,  7,  8,  9, 10]),\n",
              " <a list of 11 Text major ticklabel objects>)"
            ]
          },
          "metadata": {},
          "execution_count": 58
        },
        {
          "output_type": "display_data",
          "data": {
            "image/png": "[encoded data removed]",
            "text/plain": [
              "<Figure size 432x288 with 1 Axes>"
            ]
          },
          "metadata": {
            "needs_background": "light"
          }
        }
      ]
    },
    {
      "cell_type": "code",
      "metadata": {
        "colab": {
          "base_uri": "https://localhost:8080/",
          "height": 383
        },
        "id": "tFrlboXM69WH",
        "outputId": "561d2e44-1052-4a35-a155-5254d36e4102"
      },
      "source": [
        "sns.catplot(x='Situacao',y='SalarioAtual',hue='SexoFuncionario',data=df)\n",
        "plt.show()"
      ],
      "execution_count": null,
      "outputs": [
        {
          "output_type": "display_data",
          "data": {
            "image/png": "[encoded data removed]",
            "text/plain": [
              "<Figure size 449.75x360 with 1 Axes>"
            ]
          },
          "metadata": {
            "needs_background": "light"
          }
        }
      ]
    },
    {
      "cell_type": "code",
      "metadata": {
        "id": "-tNQIo9Z9OQ9"
      },
      "source": [
        "data = data.drop('CargoFuncionario',axis=1)"
      ],
      "execution_count": null,
      "outputs": []
    },
    {
      "cell_type": "code",
      "metadata": {
        "colab": {
          "base_uri": "https://localhost:8080/"
        },
        "id": "nKymo6uKGDHx",
        "outputId": "48b7a18c-d2fc-473f-b99b-cc5f02957cef"
      },
      "source": [
        "data.columns"
      ],
      "execution_count": null,
      "outputs": [
        {
          "output_type": "execute_result",
          "data": {
            "text/plain": [
              "Index(['Empresa', 'Cidade_Empresa', 'SalarioAtual', 'SexoFuncionario',\n",
              "       'EstadoCivilFuncionario', 'GrauInstrucao', 'FaixaTempoEmpresa',\n",
              "       'FuncionarioSindicalizado', 'RecebeInsalubridade',\n",
              "       'RecebePericulosidade', 'CargaHorariaFuncionario', 'Situacao'],\n",
              "      dtype='object')"
            ]
          },
          "metadata": {},
          "execution_count": 61
        }
      ]
    },
    {
      "cell_type": "code",
      "metadata": {
        "colab": {
          "base_uri": "https://localhost:8080/",
          "height": 672
        },
        "id": "2PZImD6BvYPZ",
        "outputId": "2fd7c70f-7139-4ad4-e79a-2bce39a8cb39"
      },
      "source": [
        "df.head(-12)"
      ],
      "execution_count": null,
      "outputs": [
        {
          "output_type": "execute_result",
          "data": {
            "text/html": [
              "<div>\n",
              "<style scoped>\n",
              "    .dataframe tbody tr th:only-of-type {\n",
              "        vertical-align: middle;\n",
              "    }\n",
              "\n",
              "    .dataframe tbody tr th {\n",
              "        vertical-align: top;\n",
              "    }\n",
              "\n",
              "    .dataframe thead th {\n",
              "        text-align: right;\n",
              "    }\n",
              "</style>\n",
              "<table border=\"1\" class=\"dataframe\">\n",
              "  <thead>\n",
              "    <tr style=\"text-align: right;\">\n",
              "      <th></th>\n",
              "      <th>DataAdmissao</th>\n",
              "      <th>DataDesligamento</th>\n",
              "      <th>SalarioAtual</th>\n",
              "      <th>SexoFuncionario</th>\n",
              "      <th>DataNascimentoFuncionario</th>\n",
              "      <th>EstadoCivilFuncionario</th>\n",
              "      <th>FaixaTempoEmpresa</th>\n",
              "      <th>GrauInstrucao</th>\n",
              "      <th>CidadeFuncionario</th>\n",
              "      <th>BairroFuncionario</th>\n",
              "      <th>FuncionarioSindicalizado</th>\n",
              "      <th>RecebeInsalubridade</th>\n",
              "      <th>RecebePericulosidade</th>\n",
              "      <th>CargaHorariaFuncionario</th>\n",
              "      <th>Empresa</th>\n",
              "      <th>ID_Funcionario</th>\n",
              "      <th>Situacao</th>\n",
              "      <th>Cidade_Empresa</th>\n",
              "    </tr>\n",
              "  </thead>\n",
              "  <tbody>\n",
              "    <tr>\n",
              "      <th>12</th>\n",
              "      <td>1994-12-12</td>\n",
              "      <td>-</td>\n",
              "      <td>3566.74</td>\n",
              "      <td>Masculino</td>\n",
              "      <td>1965-06-13</td>\n",
              "      <td>Casado</td>\n",
              "      <td>26 a 30 Anos</td>\n",
              "      <td>Ensino Medio Completo</td>\n",
              "      <td>PALMAS</td>\n",
              "      <td>CASCATINHA</td>\n",
              "      <td>Não Sindicalizado</td>\n",
              "      <td>Não Recebe</td>\n",
              "      <td>Não Recebe</td>\n",
              "      <td>220</td>\n",
              "      <td>101</td>\n",
              "      <td>18</td>\n",
              "      <td>Ativo</td>\n",
              "      <td>Palmas-PR</td>\n",
              "    </tr>\n",
              "    <tr>\n",
              "      <th>18</th>\n",
              "      <td>1994-12-22</td>\n",
              "      <td>-</td>\n",
              "      <td>1961.24</td>\n",
              "      <td>Masculino</td>\n",
              "      <td>1974-11-01</td>\n",
              "      <td>Solteiro</td>\n",
              "      <td>26 a 30 Anos</td>\n",
              "      <td>5ª/8ª Ensino Fundamental</td>\n",
              "      <td>PALMAS</td>\n",
              "      <td>LAGOAO</td>\n",
              "      <td>Não Sindicalizado</td>\n",
              "      <td>Não Recebe</td>\n",
              "      <td>Não Recebe</td>\n",
              "      <td>180</td>\n",
              "      <td>101</td>\n",
              "      <td>24</td>\n",
              "      <td>Ativo</td>\n",
              "      <td>Palmas-PR</td>\n",
              "    </tr>\n",
              "    <tr>\n",
              "      <th>30</th>\n",
              "      <td>1995-02-13</td>\n",
              "      <td>-</td>\n",
              "      <td>6073.60</td>\n",
              "      <td>Masculino</td>\n",
              "      <td>1976-02-25</td>\n",
              "      <td>Casado</td>\n",
              "      <td>26 a 30 Anos</td>\n",
              "      <td>Ensino Medio Completo</td>\n",
              "      <td>PALMAS</td>\n",
              "      <td>SERRINHA</td>\n",
              "      <td>Não Sindicalizado</td>\n",
              "      <td>Não Recebe</td>\n",
              "      <td>Não Recebe</td>\n",
              "      <td>220</td>\n",
              "      <td>101</td>\n",
              "      <td>39</td>\n",
              "      <td>Ativo</td>\n",
              "      <td>Palmas-PR</td>\n",
              "    </tr>\n",
              "    <tr>\n",
              "      <th>36</th>\n",
              "      <td>1995-03-21</td>\n",
              "      <td>-</td>\n",
              "      <td>2220.66</td>\n",
              "      <td>Masculino</td>\n",
              "      <td>1963-08-29</td>\n",
              "      <td>Casado</td>\n",
              "      <td>26 a 30 Anos</td>\n",
              "      <td>4ª completa Ensino Fundamental</td>\n",
              "      <td>PALMAS</td>\n",
              "      <td>HIPICA</td>\n",
              "      <td>Não Sindicalizado</td>\n",
              "      <td>Não Recebe</td>\n",
              "      <td>Não Recebe</td>\n",
              "      <td>220</td>\n",
              "      <td>101</td>\n",
              "      <td>47</td>\n",
              "      <td>Ativo</td>\n",
              "      <td>Palmas-PR</td>\n",
              "    </tr>\n",
              "    <tr>\n",
              "      <th>54</th>\n",
              "      <td>1995-08-01</td>\n",
              "      <td>-</td>\n",
              "      <td>1793.21</td>\n",
              "      <td>Masculino</td>\n",
              "      <td>1965-12-20</td>\n",
              "      <td>Casado</td>\n",
              "      <td>21 a 25 Anos</td>\n",
              "      <td>4ª completa Ensino Fundamental</td>\n",
              "      <td>PALMAS</td>\n",
              "      <td>SAO SEBASTIAO</td>\n",
              "      <td>Não Sindicalizado</td>\n",
              "      <td>Não Recebe</td>\n",
              "      <td>Não Recebe</td>\n",
              "      <td>180</td>\n",
              "      <td>101</td>\n",
              "      <td>69</td>\n",
              "      <td>Ativo</td>\n",
              "      <td>Palmas-PR</td>\n",
              "    </tr>\n",
              "    <tr>\n",
              "      <th>...</th>\n",
              "      <td>...</td>\n",
              "      <td>...</td>\n",
              "      <td>...</td>\n",
              "      <td>...</td>\n",
              "      <td>...</td>\n",
              "      <td>...</td>\n",
              "      <td>...</td>\n",
              "      <td>...</td>\n",
              "      <td>...</td>\n",
              "      <td>...</td>\n",
              "      <td>...</td>\n",
              "      <td>...</td>\n",
              "      <td>...</td>\n",
              "      <td>...</td>\n",
              "      <td>...</td>\n",
              "      <td>...</td>\n",
              "      <td>...</td>\n",
              "      <td>...</td>\n",
              "    </tr>\n",
              "    <tr>\n",
              "      <th>19333</th>\n",
              "      <td>2016-02-23</td>\n",
              "      <td>2019-10-28</td>\n",
              "      <td>7712.12</td>\n",
              "      <td>Feminino</td>\n",
              "      <td>1973-04-22</td>\n",
              "      <td>Solteiro</td>\n",
              "      <td>5 Anos</td>\n",
              "      <td>Superior Incompleto</td>\n",
              "      <td>RIO DE JANEIRO</td>\n",
              "      <td>TIJUCA</td>\n",
              "      <td>Não Sindicalizado</td>\n",
              "      <td>Não Recebe</td>\n",
              "      <td>Não Recebe</td>\n",
              "      <td>220</td>\n",
              "      <td>702</td>\n",
              "      <td>10</td>\n",
              "      <td>Desligado</td>\n",
              "      <td>NaN</td>\n",
              "    </tr>\n",
              "    <tr>\n",
              "      <th>19334</th>\n",
              "      <td>2017-05-29</td>\n",
              "      <td>-</td>\n",
              "      <td>20093.89</td>\n",
              "      <td>Masculino</td>\n",
              "      <td>1984-08-03</td>\n",
              "      <td>Casado</td>\n",
              "      <td>4 Anos</td>\n",
              "      <td>Superior Completo - Pós Gradua</td>\n",
              "      <td>CURITIBA</td>\n",
              "      <td>AGUA VERDE</td>\n",
              "      <td>Não Sindicalizado</td>\n",
              "      <td>Não Recebe</td>\n",
              "      <td>Não Recebe</td>\n",
              "      <td>220</td>\n",
              "      <td>702</td>\n",
              "      <td>11</td>\n",
              "      <td>Ativo</td>\n",
              "      <td>NaN</td>\n",
              "    </tr>\n",
              "    <tr>\n",
              "      <th>19335</th>\n",
              "      <td>2017-06-19</td>\n",
              "      <td>2021-06-01</td>\n",
              "      <td>7055.22</td>\n",
              "      <td>Feminino</td>\n",
              "      <td>1977-03-01</td>\n",
              "      <td>Casado</td>\n",
              "      <td>4 Anos</td>\n",
              "      <td>Superior Completo</td>\n",
              "      <td>SAO PAULO</td>\n",
              "      <td>PINHEIROS</td>\n",
              "      <td>Não Sindicalizado</td>\n",
              "      <td>Não Recebe</td>\n",
              "      <td>Não Recebe</td>\n",
              "      <td>220</td>\n",
              "      <td>702</td>\n",
              "      <td>12</td>\n",
              "      <td>Desligado</td>\n",
              "      <td>NaN</td>\n",
              "    </tr>\n",
              "    <tr>\n",
              "      <th>19336</th>\n",
              "      <td>2017-08-14</td>\n",
              "      <td>2019-06-30</td>\n",
              "      <td>1240.81</td>\n",
              "      <td>Masculino</td>\n",
              "      <td>1994-07-11</td>\n",
              "      <td>Solteiro</td>\n",
              "      <td>3 Anos</td>\n",
              "      <td>Superior Incompleto</td>\n",
              "      <td>CURITIBA</td>\n",
              "      <td>JARDIM DAS AMÉRICAS</td>\n",
              "      <td>Não Sindicalizado</td>\n",
              "      <td>Não Recebe</td>\n",
              "      <td>Não Recebe</td>\n",
              "      <td>180</td>\n",
              "      <td>702</td>\n",
              "      <td>13</td>\n",
              "      <td>Desligado</td>\n",
              "      <td>NaN</td>\n",
              "    </tr>\n",
              "    <tr>\n",
              "      <th>19337</th>\n",
              "      <td>2017-10-16</td>\n",
              "      <td>-</td>\n",
              "      <td>22394.51</td>\n",
              "      <td>Masculino</td>\n",
              "      <td>1973-06-23</td>\n",
              "      <td>Casado</td>\n",
              "      <td>3 Anos</td>\n",
              "      <td>Superior Completo - Pós Gradua</td>\n",
              "      <td>CURITIBA</td>\n",
              "      <td>BATEL</td>\n",
              "      <td>Não Sindicalizado</td>\n",
              "      <td>Não Recebe</td>\n",
              "      <td>Não Recebe</td>\n",
              "      <td>220</td>\n",
              "      <td>702</td>\n",
              "      <td>14</td>\n",
              "      <td>Ativo</td>\n",
              "      <td>NaN</td>\n",
              "    </tr>\n",
              "  </tbody>\n",
              "</table>\n",
              "<p>7249 rows × 18 columns</p>\n",
              "</div>"
            ],
            "text/plain": [
              "      DataAdmissao DataDesligamento  ...   Situacao Cidade_Empresa\n",
              "12      1994-12-12                -  ...      Ativo      Palmas-PR\n",
              "18      1994-12-22                -  ...      Ativo      Palmas-PR\n",
              "30      1995-02-13                -  ...      Ativo      Palmas-PR\n",
              "36      1995-03-21                -  ...      Ativo      Palmas-PR\n",
              "54      1995-08-01                -  ...      Ativo      Palmas-PR\n",
              "...            ...              ...  ...        ...            ...\n",
              "19333   2016-02-23       2019-10-28  ...  Desligado            NaN\n",
              "19334   2017-05-29                -  ...      Ativo            NaN\n",
              "19335   2017-06-19       2021-06-01  ...  Desligado            NaN\n",
              "19336   2017-08-14       2019-06-30  ...  Desligado            NaN\n",
              "19337   2017-10-16                -  ...      Ativo            NaN\n",
              "\n",
              "[7249 rows x 18 columns]"
            ]
          },
          "metadata": {},
          "execution_count": 75
        }
      ]
    },
    {
      "cell_type": "code",
      "metadata": {
        "id": "ryZ_ZbgC9Zqr"
      },
      "source": [
        "from sklearn.model_selection import train_test_split\n",
        "X = data.drop(['Situacao'],axis=1).values\n",
        "y = data.Situacao.values"
      ],
      "execution_count": null,
      "outputs": []
    },
    {
      "cell_type": "code",
      "metadata": {
        "id": "ZjVe1cGrBNmR"
      },
      "source": [
        "from sklearn.linear_model import LogisticRegression\n",
        "from sklearn.svm import SVC\n",
        "from sklearn.ensemble import RandomForestClassifier\n",
        "from sklearn.model_selection import cross_val_score,KFold,StratifiedKFold,cross_validate\n",
        "from sklearn.metrics import accuracy_score\n",
        "from sklearn.tree import DecisionTreeClassifier\n",
        "from sklearn.metrics import classification_report\n",
        "SEED = 42\n",
        "np.random.seed(SEED)\n",
        "X_treino,X_teste,y_treino,y_teste = train_test_split(X,y,test_size=0.33, random_state=SEED)"
      ],
      "execution_count": null,
      "outputs": []
    },
    {
      "cell_type": "code",
      "metadata": {
        "id": "wErZeAzsC1bn"
      },
      "source": [
        "# Usando KFold para a mistura dos dados de treino . \n",
        "cv = KFold(n_splits=5,shuffle=True)"
      ],
      "execution_count": null,
      "outputs": []
    },
    {
      "cell_type": "code",
      "metadata": {
        "colab": {
          "base_uri": "https://localhost:8080/"
        },
        "id": "heW2j3C4C8GA",
        "outputId": "ffbbb076-4193-4c78-f720-cf94faf26dbc"
      },
      "source": [
        "# Passando e treinando os modelos de Machine Learning . \n",
        "modelo_svc = SVC()\n",
        "modeloFlorestaAleatoria = RandomForestClassifier(n_estimators=9)\n",
        "modeloArvoreDecisao = DecisionTreeClassifier(max_depth=20)\n",
        "modeloRegressaoLogistica = LogisticRegression(solver='liblinear',max_iter=25)\n",
        "modelos = [modeloRegressaoLogistica, modeloFlorestaAleatoria, modeloArvoreDecisao]\n",
        "nome = ['Regressão Logística', \n",
        "         'Floresta Aleatória','Arvore Decisão']\n",
        "np.random.seed(SEED)\n",
        "cv = StratifiedKFold(n_splits = 5, shuffle = True)\n",
        "cont = 0\n",
        "for item in modelos:\n",
        "    \n",
        "    resultados = cross_val_score(item, X_treino, y_treino, cv = cv, \n",
        "                              scoring = 'accuracy')\n",
        "    media = resultados.mean()\n",
        "    desvioPadrao = resultados.std()\n",
        "    print('Acurácia média - Modelo {}: {:.2f}%'\n",
        "          .format(nome[cont], media*100))\n",
        "    print('Intervalo de acurácia - Modelo {}: [{:.2f}% ~ {:.2f}%]\\n'\n",
        "           .format(nome[cont], \n",
        "                  (media - 2*desvioPadrao)*100, (media + 2*desvioPadrao)*100))\n",
        "    cont += 1"
      ],
      "execution_count": null,
      "outputs": [
        {
          "output_type": "stream",
          "name": "stdout",
          "text": [
            "Acurácia média - Modelo Regressão Logística: 66.92%\n",
            "Intervalo de acurácia - Modelo Regressão Logística: [66.23% ~ 67.61%]\n",
            "\n",
            "Acurácia média - Modelo Floresta Aleatória: 86.00%\n",
            "Intervalo de acurácia - Modelo Floresta Aleatória: [84.33% ~ 87.66%]\n",
            "\n",
            "Acurácia média - Modelo Arvore Decisão: 87.48%\n",
            "Intervalo de acurácia - Modelo Arvore Decisão: [86.34% ~ 88.62%]\n",
            "\n"
          ]
        }
      ]
    },
    {
      "cell_type": "code",
      "metadata": {
        "colab": {
          "base_uri": "https://localhost:8080/"
        },
        "id": "mCxaNRIt4s_A",
        "outputId": "42f068eb-f287-43a7-9b62-6abfb17747a7"
      },
      "source": [
        "# Criando função para determinar a precisão do modelo.\n",
        "def intervalo_precisao(resultados):\n",
        "    media = resultados.mean()\n",
        "    desvioPadrao = resultados.std()\n",
        "    print('Precisão média: {:.2f}%'.format(media*100))\n",
        "    print('Intervalo de Precisão: [{:.2f}% ~ {:.2f}%]'\n",
        "          .format((media - 2*desvioPadrao)*100, (media + 2*desvioPadrao)*100))\n",
        "np.random.seed(SEED)\n",
        "cv = StratifiedKFold(n_splits = 5, shuffle = True)\n",
        "modeloFlorestaAleatoria = RandomForestClassifier(n_estimators=5)\n",
        "resultados = cross_val_score(modeloFlorestaAleatoria, X_treino, y_treino, cv = cv, \n",
        "                          scoring='precision_weighted')\n",
        "intervalo_precisao(resultados)"
      ],
      "execution_count": null,
      "outputs": [
        {
          "output_type": "stream",
          "name": "stdout",
          "text": [
            "Precisão média: 85.55%\n",
            "Intervalo de Precisão: [82.73% ~ 88.36%]\n"
          ]
        }
      ]
    },
    {
      "cell_type": "code",
      "metadata": {
        "colab": {
          "base_uri": "https://localhost:8080/"
        },
        "id": "_dsWpiRN5dCu",
        "outputId": "291f3955-da4a-4b2e-9dfe-01f2e6d800d3"
      },
      "source": [
        "def intervalo_recall(results):\n",
        "    mean = results.mean()\n",
        "    dv = results.std()\n",
        "    print('Recall médio: {:.2f}%'.format(mean*100))\n",
        "    print('Intervalo de Recall: [{:.2f}% ~ {:.2f}%]'\n",
        "          .format((mean - 2*dv)*100, (mean + 2*dv)*100))\n",
        "np.random.seed(SEED)\n",
        "cv = StratifiedKFold(n_splits = 5, shuffle = True)\n",
        "model = RandomForestClassifier(n_estimators=5)\n",
        "results = cross_val_score(model, X_treino, y_treino, cv = cv, scoring = 'recall')\n",
        "intervalo_recall(results)"
      ],
      "execution_count": null,
      "outputs": [
        {
          "output_type": "stream",
          "name": "stdout",
          "text": [
            "Recall médio: 88.50%\n",
            "Intervalo de Recall: [85.46% ~ 91.53%]\n"
          ]
        }
      ]
    },
    {
      "cell_type": "code",
      "metadata": {
        "colab": {
          "base_uri": "https://localhost:8080/",
          "height": 297
        },
        "id": "u1tv73Yo6Oq0",
        "outputId": "c4877ed1-7355-46b6-a54c-257ccb7e29ee"
      },
      "source": [
        "from sklearn.model_selection import cross_val_predict\n",
        "from sklearn.metrics import confusion_matrix\n",
        "np.random.seed(SEED)\n",
        "cv = StratifiedKFold(n_splits = 5, shuffle = True)\n",
        "model = RandomForestClassifier(n_estimators=5)\n",
        "y_pred = cross_val_predict(model, X_treino, y_treino, cv = cv)\n",
        "fig, ax = plt.subplots()\n",
        "sns.heatmap(confusion_matrix(y_treino, y_pred), annot=True, \n",
        "            ax=ax, fmt='d', cmap='Reds')\n",
        "ax.set_title(\"Matriz de Erro\", fontsize=18)\n",
        "ax.set_ylabel(\"Ativo = 0 | Desligado = 1\")\n",
        "ax.set_xlabel(\"Predição\")\n",
        "plt.tight_layout()"
      ],
      "execution_count": null,
      "outputs": [
        {
          "output_type": "display_data",
          "data": {
            "image/png": "[encoded data removed]",
            "text/plain": [
              "<Figure size 432x288 with 2 Axes>"
            ]
          },
          "metadata": {
            "needs_background": "light"
          }
        }
      ]
    },
    {
      "cell_type": "code",
      "metadata": {
        "colab": {
          "base_uri": "https://localhost:8080/"
        },
        "id": "7YSdAMo71DQz",
        "outputId": "a894c393-0374-44bf-d86f-93ac21c308d5"
      },
      "source": [
        "modeloFlorestaAleatoria_final = RandomForestClassifier(n_estimators=3)\n",
        "modeloFlorestaAleatoria_final.fit(X_treino, y_treino)\n",
        "y_pred = modeloFlorestaAleatoria_final.predict(X_teste)\n",
        "# imprimindo relatório de classificação\n",
        "print(\"Relatório de Classificação:\\n\", \n",
        "       classification_report(y_teste, y_pred, digits=2))"
      ],
      "execution_count": null,
      "outputs": [
        {
          "output_type": "stream",
          "name": "stdout",
          "text": [
            "Relatório de Classificação:\n",
            "               precision    recall  f1-score   support\n",
            "\n",
            "           0       0.77      0.82      0.79       794\n",
            "           1       0.91      0.88      0.89      1603\n",
            "\n",
            "    accuracy                           0.86      2397\n",
            "   macro avg       0.84      0.85      0.84      2397\n",
            "weighted avg       0.86      0.86      0.86      2397\n",
            "\n"
          ]
        }
      ]
    },
    {
      "cell_type": "code",
      "metadata": {
        "id": "6c84EMdRq19Y",
        "colab": {
          "base_uri": "https://localhost:8080/"
        },
        "outputId": "2e516c0e-2b66-43da-b6e5-773a76678dc5"
      },
      "source": [
        "from sklearn.externals import joblib\n",
        "joblib.dump(modeloFlorestaAleatoria_final, 'modelo.pkl')"
      ],
      "execution_count": null,
      "outputs": [
        {
          "output_type": "execute_result",
          "data": {
            "text/plain": [
              "['modelo.pkl']"
            ]
          },
          "metadata": {},
          "execution_count": 77
        }
      ]
    }
  ]
}